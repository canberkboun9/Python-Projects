{
  "nbformat": 4,
  "nbformat_minor": 0,
  "metadata": {
    "colab": {
      "name": "Untitled6.ipynb",
      "provenance": [],
      "collapsed_sections": []
    },
    "kernelspec": {
      "name": "python3",
      "display_name": "Python 3"
    },
    "language_info": {
      "name": "python"
    }
  },
  "cells": [
    {
      "cell_type": "code",
      "execution_count": null,
      "metadata": {
        "id": "KvotKPHPgyS0"
      },
      "outputs": [],
      "source": [
        "from nltk.corpus import stopwords\n",
        "import os\n",
        "import nltk\n",
        "import sklearn\n",
        "import nltk\n",
        "import pandas as pd\n",
        "from nltk.stem import WordNetLemmatizer\n",
        "from nltk.stem import PorterStemmer\n"
      ]
    },
    {
      "cell_type": "code",
      "source": [
        "df = pd.read_csv(\"/content/BC7-LitCovid-Train.csv\")\n",
        "df2 = pd.read_csv(\"/content/BC7-LitCovid-Dev.csv\")\n",
        "\n",
        "print(df.head)"
      ],
      "metadata": {
        "colab": {
          "base_uri": "https://localhost:8080/"
        },
        "id": "bYInlcQYg8ay",
        "outputId": "9301d911-b2b6-4c7c-ba1d-812c52291648"
      },
      "execution_count": null,
      "outputs": [
        {
          "output_type": "stream",
          "name": "stdout",
          "text": [
            "<bound method NDFrame.head of            pmid  ...                 label\n",
            "0      32519164  ...   Treatment;Mechanism\n",
            "1      32691006  ...  Treatment;Prevention\n",
            "2      32858315  ...           Case Report\n",
            "3      32985329  ...            Prevention\n",
            "4      32812051  ...             Treatment\n",
            "...         ...  ...                   ...\n",
            "24955  32508388  ...            Prevention\n",
            "24956  32815519  ...             Diagnosis\n",
            "24957  32904987  ...   Treatment;Diagnosis\n",
            "24958  32892181  ...            Prevention\n",
            "24959  32389144  ...            Prevention\n",
            "\n",
            "[24960 rows x 9 columns]>\n"
          ]
        }
      ]
    },
    {
      "cell_type": "code",
      "source": [
        "tokenCounter= 0\n",
        "for i in range(24960):\n",
        "  text = df[\"title\"][i] + \" \" +df[\"abstract\"][i]\n",
        "  tokens = nltk.tokenize.word_tokenize(text)\n",
        "  tokenCounter += len(tokens)"
      ],
      "metadata": {
        "id": "aMQofO8OGSFG"
      },
      "execution_count": null,
      "outputs": []
    },
    {
      "cell_type": "code",
      "source": [
        "print(tokenCounter)"
      ],
      "metadata": {
        "colab": {
          "base_uri": "https://localhost:8080/"
        },
        "id": "NfRpTfcYNCWn",
        "outputId": "bf58c6a4-d972-4e0e-fec2-09615d964d64"
      },
      "execution_count": null,
      "outputs": [
        {
          "output_type": "stream",
          "name": "stdout",
          "text": [
            "6168752\n"
          ]
        }
      ]
    },
    {
      "cell_type": "code",
      "source": [
        "testResults = pd.DataFrame(columns=['Treatment','Diagnosis','Prevention','Mechanism','Transmission','Epidemic Forecasting','Case Report'])\n",
        "\n",
        "for el in df2[\"label\"]:\n",
        "  rowList = []\n",
        "  if \"Treatment\" in el:\n",
        "    rowList.append(1)\n",
        "  else:\n",
        "    rowList.append(0)\n",
        "  if 'Diagnosis' in el:\n",
        "    rowList.append(1)\n",
        "  else:\n",
        "    rowList.append(0)\n",
        "  if 'Prevention' in el:\n",
        "    rowList.append(1)\n",
        "  else:\n",
        "    rowList.append(0)\n",
        "  if 'Mechanism' in el:\n",
        "    rowList.append(1)\n",
        "  else:\n",
        "    rowList.append(0)\n",
        "  if 'Transmission' in el:\n",
        "    rowList.append(1)\n",
        "  else:\n",
        "    rowList.append(0)\n",
        "  if 'Epidemic Forecasting' in el:\n",
        "    rowList.append(1)\n",
        "  else:\n",
        "    rowList.append(0)\n",
        "  if 'Case Report' in el:\n",
        "    rowList.append(1)\n",
        "  else:\n",
        "    rowList.append(0)\n",
        "\n",
        "  df_length = len(testResults)\n",
        "  testResults.loc[df_length] = rowList\n",
        "\n",
        "\n"
      ],
      "metadata": {
        "id": "rYX4sRGXxdr1"
      },
      "execution_count": null,
      "outputs": []
    },
    {
      "cell_type": "code",
      "source": [
        "df2[\"title\"][0]"
      ],
      "metadata": {
        "colab": {
          "base_uri": "https://localhost:8080/",
          "height": 53
        },
        "id": "B6U0H2pEF_ck",
        "outputId": "12312812-92b0-4916-83d4-3ed3231e0d88"
      },
      "execution_count": null,
      "outputs": [
        {
          "output_type": "execute_result",
          "data": {
            "application/vnd.google.colaboratory.intrinsic+json": {
              "type": "string"
            },
            "text/plain": [
              "'Potential benefits and risks of omega-3 fatty acids supplementation to patients with COVID-19.'"
            ]
          },
          "metadata": {},
          "execution_count": 56
        }
      ]
    },
    {
      "cell_type": "code",
      "source": [
        "print(testResults)"
      ],
      "metadata": {
        "colab": {
          "base_uri": "https://localhost:8080/"
        },
        "id": "A-Jw8dAy2Jzk",
        "outputId": "0f5cc665-c134-46dc-9c1b-715f312027a2"
      },
      "execution_count": null,
      "outputs": [
        {
          "output_type": "stream",
          "name": "stdout",
          "text": [
            "      Treatment Diagnosis  ... Epidemic Forecasting Case Report\n",
            "0             1         0  ...                    0           0\n",
            "1             1         0  ...                    0           0\n",
            "2             0         0  ...                    0           1\n",
            "3             0         0  ...                    0           0\n",
            "4             1         0  ...                    0           0\n",
            "...         ...       ...  ...                  ...         ...\n",
            "24955         0         0  ...                    0           0\n",
            "24956         0         1  ...                    0           0\n",
            "24957         1         1  ...                    0           0\n",
            "24958         0         0  ...                    0           0\n",
            "24959         0         0  ...                    0           0\n",
            "\n",
            "[24960 rows x 7 columns]\n"
          ]
        }
      ]
    },
    {
      "cell_type": "code",
      "source": [
        "nltk.download('stopwords')\n",
        "nltk.download('punkt')\n",
        "nltk.download('wordnet')\n",
        "counterAlpha = 0\n",
        "counterStopWords =0\n",
        "cleanedTrainData = dataCleaning(df)\n",
        "counterAlpha = 0\n",
        "counterStopWords =0\n",
        "cleanedTestData = dataCleaning(df2)"
      ],
      "metadata": {
        "colab": {
          "base_uri": "https://localhost:8080/"
        },
        "id": "-A5zhXeZCfV3",
        "outputId": "fec2555d-560d-40f5-df8a-d5247be6a97d"
      },
      "execution_count": null,
      "outputs": [
        {
          "output_type": "stream",
          "name": "stdout",
          "text": [
            "[nltk_data] Downloading package stopwords to /root/nltk_data...\n",
            "[nltk_data]   Package stopwords is already up-to-date!\n",
            "[nltk_data] Downloading package punkt to /root/nltk_data...\n",
            "[nltk_data]   Package punkt is already up-to-date!\n",
            "[nltk_data] Downloading package wordnet to /root/nltk_data...\n",
            "[nltk_data]   Package wordnet is already up-to-date!\n"
          ]
        }
      ]
    },
    {
      "cell_type": "code",
      "source": [
        "wordnet_lemmatizer = WordNetLemmatizer()\n",
        "stemmer = PorterStemmer()\n",
        "stopwords = stopwords.words('english')\n",
        "stopwords = set(stopwords)\n",
        "\n",
        "def tokenize_lemma_stopwords(text):\n",
        "    text = text.replace(\"\\n\", \" \")\n",
        "    # split string into words (tokens)\n",
        "    tokens = nltk.tokenize.word_tokenize(text.lower())\n",
        "    # keep strings with only alphabets\n",
        "    tokens = [t for t in tokens if t.isalpha()]\n",
        "    # put words into base form\n",
        "    tokens = [wordnet_lemmatizer.lemmatize(t) for t in tokens] \n",
        "    tokens = [stemmer.stem(t) for t in tokens]\n",
        "    # remove short words, they're probably not useful\n",
        "    tokens = [t for t in tokens if len(t) > 2]\n",
        "    tokens = [t for t in tokens if t not in stopwords] # remove stopwords\n",
        "    cleanedText = \" \".join(tokens)\n",
        "    return cleanedText\n",
        "\n",
        "def dataCleaning(df):\n",
        "    data = df.copy()\n",
        "    data[\"content\"] =(df[\"title\"] + \" \" +df[\"abstract\"]).apply(tokenize_lemma_stopwords)\n",
        "    return data"
      ],
      "metadata": {
        "id": "gH0wRx24CdfY"
      },
      "execution_count": null,
      "outputs": []
    },
    {
      "cell_type": "code",
      "source": [
        "tokenCounter= 0\n",
        "for i in range(6238):\n",
        "  text = cleanedTestData[\"content\"][i]\n",
        "  tokens = nltk.tokenize.word_tokenize(text)\n",
        "  tokenCounter += len(tokens)"
      ],
      "metadata": {
        "id": "6Uy-NhZpURY5"
      },
      "execution_count": null,
      "outputs": []
    },
    {
      "cell_type": "code",
      "source": [
        "print(tokenCounter)"
      ],
      "metadata": {
        "colab": {
          "base_uri": "https://localhost:8080/"
        },
        "id": "CcxCeLi2UjE9",
        "outputId": "9db38c59-3cb2-47cc-9210-2e0e515d0324"
      },
      "execution_count": null,
      "outputs": [
        {
          "output_type": "stream",
          "name": "stdout",
          "text": [
            "757043\n"
          ]
        }
      ]
    },
    {
      "cell_type": "code",
      "source": [
        "from sklearn.feature_extraction.text import TfidfVectorizer\n",
        "from sklearn import metrics\n",
        "\n",
        "vectorizer = TfidfVectorizer()\n",
        "vectorised_train_documents = vectorizer.fit_transform(cleanedTrainData[\"content\"])\n",
        "\n",
        "vectorised_test_documents = vectorizer.transform(cleanedTestData[\"content\"])\n",
        "cleanedTestData[\"content\"][0]"
      ],
      "metadata": {
        "id": "AMl-_xfULbaG",
        "colab": {
          "base_uri": "https://localhost:8080/",
          "height": 209
        },
        "outputId": "931919a9-ce35-4d5f-86df-00c030a50e08"
      },
      "execution_count": null,
      "outputs": [
        {
          "output_type": "execute_result",
          "data": {
            "application/vnd.google.colaboratory.intrinsic+json": {
              "type": "string"
            },
            "text/plain": [
              "'potenti benefit risk fatti acid supplement patient studi shown infect excess coagul cytokin storm leukopenia lymphopenia hypoxemia oxid stress also observ critic ill sever acut respiratori syndrom coronaviru patient addit onset symptom still approv drug vaccin dietari supplement could possibl improv patient recoveri fatti acid specif eicosapentaeno acid epa docosahexaeno acid dha present effect could amelior patient need intens care unit icu admiss epa dha replac arachidon acid ara phospholipid membran oxid enzym epa dha contribut synthesi inflammatori eicosanoid special lipid mediat spm resolvin maresin protectin thi reduc inflamm contrast studi report epa dha make cell membran suscept oxid mediat reactiv oxygen speci lead format potenti toxic oxid product increas oxid stress although inflammatori resolut improv epa dha could contribut recoveri patient infect fatti acid supplement recommend befor random control trial carri'"
            ]
          },
          "metadata": {},
          "execution_count": 68
        }
      ]
    },
    {
      "cell_type": "code",
      "source": [
        "type(vectorised_train_documents[0])"
      ],
      "metadata": {
        "colab": {
          "base_uri": "https://localhost:8080/"
        },
        "id": "XaICKxhU3IuV",
        "outputId": "cb4999e3-5389-4d72-fdbb-9ba011dd1c34"
      },
      "execution_count": null,
      "outputs": [
        {
          "output_type": "execute_result",
          "data": {
            "text/plain": [
              "scipy.sparse.csr.csr_matrix"
            ]
          },
          "metadata": {},
          "execution_count": 143
        }
      ]
    },
    {
      "cell_type": "code",
      "source": [
        "from yellowbrick.text import FreqDistVisualizer\n",
        "features = vectorizer.get_feature_names()\n",
        "visualizer = FreqDistVisualizer(features=features, orient='v')\n",
        "visualizer.fit(vectorised_train_documents)\n",
        "visualizer.show()"
      ],
      "metadata": {
        "colab": {
          "base_uri": "https://localhost:8080/",
          "height": 470
        },
        "id": "F7xr_u6vLimZ",
        "outputId": "d03e03bf-5dfa-4ecc-ae4e-81b908c40a2c"
      },
      "execution_count": null,
      "outputs": [
        {
          "output_type": "stream",
          "name": "stderr",
          "text": [
            "/usr/local/lib/python3.7/dist-packages/sklearn/utils/deprecation.py:87: FutureWarning: Function get_feature_names is deprecated; get_feature_names is deprecated in 1.0 and will be removed in 1.2. Please use get_feature_names_out instead.\n",
            "  warnings.warn(msg, category=FutureWarning)\n"
          ]
        },
        {
          "output_type": "display_data",
          "data": {
            "image/png": "[encoded data removed]",
            "text/plain": [
              "<Figure size 576x396 with 1 Axes>"
            ]
          },
          "metadata": {}
        },
        {
          "output_type": "execute_result",
          "data": {
            "text/plain": [
              "<matplotlib.axes._subplots.AxesSubplot at 0x7f5b762e5350>"
            ]
          },
          "metadata": {},
          "execution_count": 69
        }
      ]
    },
    {
      "cell_type": "code",
      "source": [
        "from sklearn.preprocessing import MultiLabelBinarizer\n",
        "\n",
        "for i in range(len(cleanedTrainData[\"label\"])):\n",
        "  cleanedTrainData[\"label\"][i] = str(cleanedTrainData[\"label\"][i]).split(\";\")\n",
        "for i in range(len(cleanedTestData[\"label\"])):\n",
        "  cleanedTestData[\"label\"][i] = str(cleanedTestData[\"label\"][i]).split(\";\")\n",
        "\n",
        "mlb = MultiLabelBinarizer()\n",
        "train_labels = mlb.fit_transform(cleanedTrainData[\"label\"])\n",
        "test_labels = mlb.transform(cleanedTestData[\"label\"])"
      ],
      "metadata": {
        "id": "Y3hAWJHCLrKp",
        "colab": {
          "base_uri": "https://localhost:8080/"
        },
        "outputId": "6680054c-fc06-4b77-bcb6-83ab4c5df849"
      },
      "execution_count": null,
      "outputs": [
        {
          "output_type": "stream",
          "name": "stderr",
          "text": [
            "/usr/local/lib/python3.7/dist-packages/ipykernel_launcher.py:4: SettingWithCopyWarning: \n",
            "A value is trying to be set on a copy of a slice from a DataFrame\n",
            "\n",
            "See the caveats in the documentation: https://pandas.pydata.org/pandas-docs/stable/user_guide/indexing.html#returning-a-view-versus-a-copy\n",
            "  after removing the cwd from sys.path.\n",
            "/usr/local/lib/python3.7/dist-packages/ipykernel_launcher.py:6: SettingWithCopyWarning: \n",
            "A value is trying to be set on a copy of a slice from a DataFrame\n",
            "\n",
            "See the caveats in the documentation: https://pandas.pydata.org/pandas-docs/stable/user_guide/indexing.html#returning-a-view-versus-a-copy\n",
            "  \n"
          ]
        }
      ]
    },
    {
      "cell_type": "code",
      "source": [
        "caseReport= 0\n",
        "Diagnosis =0\n",
        "Epidemic =0\n",
        "Mechanism =0\n",
        "Prevention =0\n",
        "Transmission = 0\n",
        "Treatment = 0\n",
        "for i in range(24960):\n",
        "  if train_labels[i][0] == 1:\n",
        "    caseReport +=1\n",
        "  if train_labels[i][1] == 1:\n",
        "    Diagnosis +=1\n",
        "  if train_labels[i][2] == 1:\n",
        "    Epidemic +=1\n",
        "  if train_labels[i][3] == 1:\n",
        "    Mechanism +=1\n",
        "  if train_labels[i][4] == 1:\n",
        "    Prevention +=1\n",
        "  if train_labels[i][5] == 1:\n",
        "    Transmission +=1\n",
        "  if train_labels[i][6] == 1:\n",
        "    Treatment +=1\n",
        "  \n"
      ],
      "metadata": {
        "id": "rOssCmLfBb6A"
      },
      "execution_count": null,
      "outputs": []
    },
    {
      "cell_type": "code",
      "source": [
        "print(caseReport,\n",
        "Diagnosis,\n",
        "Epidemic,\n",
        "Mechanism,\n",
        "Prevention,\n",
        "Transmission,\n",
        "Treatment)"
      ],
      "metadata": {
        "colab": {
          "base_uri": "https://localhost:8080/"
        },
        "id": "-slNpFe_Xthr",
        "outputId": "599998f6-4d96-45af-e337-cf8e8334bd72"
      },
      "execution_count": null,
      "outputs": [
        {
          "output_type": "stream",
          "name": "stdout",
          "text": [
            "2063 6193 645 4438 11102 1088 8717\n"
          ]
        }
      ]
    },
    {
      "cell_type": "code",
      "source": [
        "from sklearn.neighbors import KNeighborsClassifier\n",
        "from sklearn.multiclass import OneVsRestClassifier\n",
        "from sklearn.tree import DecisionTreeClassifier\n",
        "from sklearn.ensemble import BaggingClassifier\n",
        "\n",
        "from sklearn.naive_bayes import MultinomialNB\n",
        "from sklearn.model_selection import cross_val_score\n",
        "import numpy as np\n",
        "nbClassifier = KNeighborsClassifier()\n",
        "knn_cv = KNeighborsClassifier()\n",
        "cv_scores = cross_val_score(knn_cv, vectorised_train_documents, train_labels, cv=5)\n",
        "#nbClassifier.fit(vectorised_train_documents, train_labels)\n",
        "knnPredictions = knn_cv.predict_proba(vectorised_test_documents)"
      ],
      "metadata": {
        "id": "jfMFTLekNe_b",
        "colab": {
          "base_uri": "https://localhost:8080/",
          "height": 380
        },
        "outputId": "06b09be8-f697-4b38-9697-959ca0ca6484"
      },
      "execution_count": null,
      "outputs": [
        {
          "output_type": "error",
          "ename": "NotFittedError",
          "evalue": "ignored",
          "traceback": [
            "\u001b[0;31m---------------------------------------------------------------------------\u001b[0m",
            "\u001b[0;31mNotFittedError\u001b[0m                            Traceback (most recent call last)",
            "\u001b[0;32m<ipython-input-186-d8477aaa40ce>\u001b[0m in \u001b[0;36m<module>\u001b[0;34m()\u001b[0m\n\u001b[1;32m     11\u001b[0m \u001b[0mcv_scores\u001b[0m \u001b[0;34m=\u001b[0m \u001b[0mcross_val_score\u001b[0m\u001b[0;34m(\u001b[0m\u001b[0mknn_cv\u001b[0m\u001b[0;34m,\u001b[0m \u001b[0mvectorised_train_documents\u001b[0m\u001b[0;34m,\u001b[0m \u001b[0mtrain_labels\u001b[0m\u001b[0;34m,\u001b[0m \u001b[0mcv\u001b[0m\u001b[0;34m=\u001b[0m\u001b[0;36m5\u001b[0m\u001b[0;34m)\u001b[0m\u001b[0;34m\u001b[0m\u001b[0;34m\u001b[0m\u001b[0m\n\u001b[1;32m     12\u001b[0m \u001b[0;31m#nbClassifier.fit(vectorised_train_documents, train_labels)\u001b[0m\u001b[0;34m\u001b[0m\u001b[0;34m\u001b[0m\u001b[0;34m\u001b[0m\u001b[0m\n\u001b[0;32m---> 13\u001b[0;31m \u001b[0mknnPredictions\u001b[0m \u001b[0;34m=\u001b[0m \u001b[0mknn_cv\u001b[0m\u001b[0;34m.\u001b[0m\u001b[0mpredict_proba\u001b[0m\u001b[0;34m(\u001b[0m\u001b[0mvectorised_test_documents\u001b[0m\u001b[0;34m)\u001b[0m\u001b[0;34m\u001b[0m\u001b[0;34m\u001b[0m\u001b[0m\n\u001b[0m",
            "\u001b[0;32m/usr/local/lib/python3.7/dist-packages/sklearn/neighbors/_classification.py\u001b[0m in \u001b[0;36mpredict_proba\u001b[0;34m(self, X)\u001b[0m\n\u001b[1;32m    254\u001b[0m             \u001b[0mby\u001b[0m \u001b[0mlexicographic\u001b[0m \u001b[0morder\u001b[0m\u001b[0;34m.\u001b[0m\u001b[0;34m\u001b[0m\u001b[0;34m\u001b[0m\u001b[0m\n\u001b[1;32m    255\u001b[0m         \"\"\"\n\u001b[0;32m--> 256\u001b[0;31m         \u001b[0mneigh_dist\u001b[0m\u001b[0;34m,\u001b[0m \u001b[0mneigh_ind\u001b[0m \u001b[0;34m=\u001b[0m \u001b[0mself\u001b[0m\u001b[0;34m.\u001b[0m\u001b[0mkneighbors\u001b[0m\u001b[0;34m(\u001b[0m\u001b[0mX\u001b[0m\u001b[0;34m)\u001b[0m\u001b[0;34m\u001b[0m\u001b[0;34m\u001b[0m\u001b[0m\n\u001b[0m\u001b[1;32m    257\u001b[0m \u001b[0;34m\u001b[0m\u001b[0m\n\u001b[1;32m    258\u001b[0m         \u001b[0mclasses_\u001b[0m \u001b[0;34m=\u001b[0m \u001b[0mself\u001b[0m\u001b[0;34m.\u001b[0m\u001b[0mclasses_\u001b[0m\u001b[0;34m\u001b[0m\u001b[0;34m\u001b[0m\u001b[0m\n",
            "\u001b[0;32m/usr/local/lib/python3.7/dist-packages/sklearn/neighbors/_base.py\u001b[0m in \u001b[0;36mkneighbors\u001b[0;34m(self, X, n_neighbors, return_distance)\u001b[0m\n\u001b[1;32m    695\u001b[0m                [2]]...)\n\u001b[1;32m    696\u001b[0m         \"\"\"\n\u001b[0;32m--> 697\u001b[0;31m         \u001b[0mcheck_is_fitted\u001b[0m\u001b[0;34m(\u001b[0m\u001b[0mself\u001b[0m\u001b[0;34m)\u001b[0m\u001b[0;34m\u001b[0m\u001b[0;34m\u001b[0m\u001b[0m\n\u001b[0m\u001b[1;32m    698\u001b[0m \u001b[0;34m\u001b[0m\u001b[0m\n\u001b[1;32m    699\u001b[0m         \u001b[0;32mif\u001b[0m \u001b[0mn_neighbors\u001b[0m \u001b[0;32mis\u001b[0m \u001b[0;32mNone\u001b[0m\u001b[0;34m:\u001b[0m\u001b[0;34m\u001b[0m\u001b[0;34m\u001b[0m\u001b[0m\n",
            "\u001b[0;32m/usr/local/lib/python3.7/dist-packages/sklearn/utils/validation.py\u001b[0m in \u001b[0;36mcheck_is_fitted\u001b[0;34m(estimator, attributes, msg, all_or_any)\u001b[0m\n\u001b[1;32m   1207\u001b[0m \u001b[0;34m\u001b[0m\u001b[0m\n\u001b[1;32m   1208\u001b[0m     \u001b[0;32mif\u001b[0m \u001b[0;32mnot\u001b[0m \u001b[0mfitted\u001b[0m\u001b[0;34m:\u001b[0m\u001b[0;34m\u001b[0m\u001b[0;34m\u001b[0m\u001b[0m\n\u001b[0;32m-> 1209\u001b[0;31m         \u001b[0;32mraise\u001b[0m \u001b[0mNotFittedError\u001b[0m\u001b[0;34m(\u001b[0m\u001b[0mmsg\u001b[0m \u001b[0;34m%\u001b[0m \u001b[0;34m{\u001b[0m\u001b[0;34m\"name\"\u001b[0m\u001b[0;34m:\u001b[0m \u001b[0mtype\u001b[0m\u001b[0;34m(\u001b[0m\u001b[0mestimator\u001b[0m\u001b[0;34m)\u001b[0m\u001b[0;34m.\u001b[0m\u001b[0m__name__\u001b[0m\u001b[0;34m}\u001b[0m\u001b[0;34m)\u001b[0m\u001b[0;34m\u001b[0m\u001b[0;34m\u001b[0m\u001b[0m\n\u001b[0m\u001b[1;32m   1210\u001b[0m \u001b[0;34m\u001b[0m\u001b[0m\n\u001b[1;32m   1211\u001b[0m \u001b[0;34m\u001b[0m\u001b[0m\n",
            "\u001b[0;31mNotFittedError\u001b[0m: This KNeighborsClassifier instance is not fitted yet. Call 'fit' with appropriate arguments before using this estimator."
          ]
        }
      ]
    },
    {
      "cell_type": "code",
      "source": [
        "print(nbClassifier.classes_)"
      ],
      "metadata": {
        "colab": {
          "base_uri": "https://localhost:8080/"
        },
        "id": "hXRBk8rRDncz",
        "outputId": "3f933933-ec3c-4d9b-e902-a29c65279799"
      },
      "execution_count": null,
      "outputs": [
        {
          "output_type": "stream",
          "name": "stdout",
          "text": [
            "[0 1 2 3 4 5 6]\n"
          ]
        }
      ]
    },
    {
      "cell_type": "code",
      "source": [
        "knnPredictions[2]"
      ],
      "metadata": {
        "colab": {
          "base_uri": "https://localhost:8080/"
        },
        "id": "OHpGCmMrvwYQ",
        "outputId": "6900fe7e-acf0-4c61-aaaa-49539f51e635"
      },
      "execution_count": null,
      "outputs": [
        {
          "output_type": "execute_result",
          "data": {
            "text/plain": [
              "array([[1. , 0. ],\n",
              "       [0.4, 0.6],\n",
              "       [1. , 0. ],\n",
              "       ...,\n",
              "       [1. , 0. ],\n",
              "       [1. , 0. ],\n",
              "       [1. , 0. ]])"
            ]
          },
          "metadata": {},
          "execution_count": 128
        }
      ]
    },
    {
      "cell_type": "code",
      "source": [
        "predictions"
      ],
      "metadata": {
        "colab": {
          "base_uri": "https://localhost:8080/",
          "height": 485
        },
        "id": "9gve_YM0GUy8",
        "outputId": "a6bc293f-aeb1-4459-9f9d-b071de6c5d68"
      },
      "execution_count": null,
      "outputs": [
        {
          "output_type": "execute_result",
          "data": {
            "text/html": [
              "\n",
              "  <div id=\"df-4afd77bb-a5d2-477e-96c9-a8774bb3e226\">\n",
              "    <div class=\"colab-df-container\">\n",
              "      <div>\n",
              "<style scoped>\n",
              "    .dataframe tbody tr th:only-of-type {\n",
              "        vertical-align: middle;\n",
              "    }\n",
              "\n",
              "    .dataframe tbody tr th {\n",
              "        vertical-align: top;\n",
              "    }\n",
              "\n",
              "    .dataframe thead th {\n",
              "        text-align: right;\n",
              "    }\n",
              "</style>\n",
              "<table border=\"1\" class=\"dataframe\">\n",
              "  <thead>\n",
              "    <tr style=\"text-align: right;\">\n",
              "      <th></th>\n",
              "      <th>Treatment</th>\n",
              "      <th>Diagnosis</th>\n",
              "      <th>Prevention</th>\n",
              "      <th>Mechanism</th>\n",
              "      <th>Transmission</th>\n",
              "      <th>Epidemic Forecasting</th>\n",
              "      <th>Case Report</th>\n",
              "    </tr>\n",
              "  </thead>\n",
              "  <tbody>\n",
              "    <tr>\n",
              "      <th>0</th>\n",
              "      <td>0.985214</td>\n",
              "      <td>0.056035</td>\n",
              "      <td>0.003427</td>\n",
              "      <td>0.814219</td>\n",
              "      <td>0.000446</td>\n",
              "      <td>4.234890e-05</td>\n",
              "      <td>0.010759</td>\n",
              "    </tr>\n",
              "    <tr>\n",
              "      <th>1</th>\n",
              "      <td>0.005414</td>\n",
              "      <td>0.007420</td>\n",
              "      <td>0.969380</td>\n",
              "      <td>0.000579</td>\n",
              "      <td>0.000076</td>\n",
              "      <td>2.222346e-04</td>\n",
              "      <td>0.000008</td>\n",
              "    </tr>\n",
              "    <tr>\n",
              "      <th>2</th>\n",
              "      <td>0.006578</td>\n",
              "      <td>0.003001</td>\n",
              "      <td>0.995043</td>\n",
              "      <td>0.000585</td>\n",
              "      <td>0.000073</td>\n",
              "      <td>1.785484e-05</td>\n",
              "      <td>0.000158</td>\n",
              "    </tr>\n",
              "    <tr>\n",
              "      <th>3</th>\n",
              "      <td>0.969774</td>\n",
              "      <td>0.007438</td>\n",
              "      <td>0.001508</td>\n",
              "      <td>0.721617</td>\n",
              "      <td>0.000007</td>\n",
              "      <td>6.002499e-07</td>\n",
              "      <td>0.000020</td>\n",
              "    </tr>\n",
              "    <tr>\n",
              "      <th>4</th>\n",
              "      <td>0.828657</td>\n",
              "      <td>0.018961</td>\n",
              "      <td>0.044394</td>\n",
              "      <td>0.104462</td>\n",
              "      <td>0.000004</td>\n",
              "      <td>5.134841e-08</td>\n",
              "      <td>0.000148</td>\n",
              "    </tr>\n",
              "    <tr>\n",
              "      <th>...</th>\n",
              "      <td>...</td>\n",
              "      <td>...</td>\n",
              "      <td>...</td>\n",
              "      <td>...</td>\n",
              "      <td>...</td>\n",
              "      <td>...</td>\n",
              "      <td>...</td>\n",
              "    </tr>\n",
              "    <tr>\n",
              "      <th>6234</th>\n",
              "      <td>0.002149</td>\n",
              "      <td>0.000574</td>\n",
              "      <td>0.997822</td>\n",
              "      <td>0.000176</td>\n",
              "      <td>0.000016</td>\n",
              "      <td>2.306114e-06</td>\n",
              "      <td>0.000013</td>\n",
              "    </tr>\n",
              "    <tr>\n",
              "      <th>6235</th>\n",
              "      <td>0.244515</td>\n",
              "      <td>0.036890</td>\n",
              "      <td>0.089543</td>\n",
              "      <td>0.627320</td>\n",
              "      <td>0.005290</td>\n",
              "      <td>1.591384e-05</td>\n",
              "      <td>0.000120</td>\n",
              "    </tr>\n",
              "    <tr>\n",
              "      <th>6236</th>\n",
              "      <td>0.723089</td>\n",
              "      <td>0.108597</td>\n",
              "      <td>0.079587</td>\n",
              "      <td>0.004745</td>\n",
              "      <td>0.000022</td>\n",
              "      <td>3.435083e-07</td>\n",
              "      <td>0.000063</td>\n",
              "    </tr>\n",
              "    <tr>\n",
              "      <th>6237</th>\n",
              "      <td>0.026751</td>\n",
              "      <td>0.003624</td>\n",
              "      <td>0.944638</td>\n",
              "      <td>0.000289</td>\n",
              "      <td>0.000146</td>\n",
              "      <td>1.111492e-05</td>\n",
              "      <td>0.001982</td>\n",
              "    </tr>\n",
              "    <tr>\n",
              "      <th>6238</th>\n",
              "      <td>0.044413</td>\n",
              "      <td>0.105872</td>\n",
              "      <td>0.367642</td>\n",
              "      <td>0.000663</td>\n",
              "      <td>0.000018</td>\n",
              "      <td>1.316197e-06</td>\n",
              "      <td>0.001253</td>\n",
              "    </tr>\n",
              "  </tbody>\n",
              "</table>\n",
              "<p>6239 rows × 7 columns</p>\n",
              "</div>\n",
              "      <button class=\"colab-df-convert\" onclick=\"convertToInteractive('df-4afd77bb-a5d2-477e-96c9-a8774bb3e226')\"\n",
              "              title=\"Convert this dataframe to an interactive table.\"\n",
              "              style=\"display:none;\">\n",
              "        \n",
              "  <svg xmlns=\"http://www.w3.org/2000/svg\" height=\"24px\"viewBox=\"0 0 24 24\"\n",
              "       width=\"24px\">\n",
              "    <path d=\"M0 0h24v24H0V0z\" fill=\"none\"/>\n",
              "    <path d=\"M18.56 5.44l.94 2.06.94-2.06 2.06-.94-2.06-.94-.94-2.06-.94 2.06-2.06.94zm-11 1L8.5 8.5l.94-2.06 2.06-.94-2.06-.94L8.5 2.5l-.94 2.06-2.06.94zm10 10l.94 2.06.94-2.06 2.06-.94-2.06-.94-.94-2.06-.94 2.06-2.06.94z\"/><path d=\"M17.41 7.96l-1.37-1.37c-.4-.4-.92-.59-1.43-.59-.52 0-1.04.2-1.43.59L10.3 9.45l-7.72 7.72c-.78.78-.78 2.05 0 2.83L4 21.41c.39.39.9.59 1.41.59.51 0 1.02-.2 1.41-.59l7.78-7.78 2.81-2.81c.8-.78.8-2.07 0-2.86zM5.41 20L4 18.59l7.72-7.72 1.47 1.35L5.41 20z\"/>\n",
              "  </svg>\n",
              "      </button>\n",
              "      \n",
              "  <style>\n",
              "    .colab-df-container {\n",
              "      display:flex;\n",
              "      flex-wrap:wrap;\n",
              "      gap: 12px;\n",
              "    }\n",
              "\n",
              "    .colab-df-convert {\n",
              "      background-color: #E8F0FE;\n",
              "      border: none;\n",
              "      border-radius: 50%;\n",
              "      cursor: pointer;\n",
              "      display: none;\n",
              "      fill: #1967D2;\n",
              "      height: 32px;\n",
              "      padding: 0 0 0 0;\n",
              "      width: 32px;\n",
              "    }\n",
              "\n",
              "    .colab-df-convert:hover {\n",
              "      background-color: #E2EBFA;\n",
              "      box-shadow: 0px 1px 2px rgba(60, 64, 67, 0.3), 0px 1px 3px 1px rgba(60, 64, 67, 0.15);\n",
              "      fill: #174EA6;\n",
              "    }\n",
              "\n",
              "    [theme=dark] .colab-df-convert {\n",
              "      background-color: #3B4455;\n",
              "      fill: #D2E3FC;\n",
              "    }\n",
              "\n",
              "    [theme=dark] .colab-df-convert:hover {\n",
              "      background-color: #434B5C;\n",
              "      box-shadow: 0px 1px 3px 1px rgba(0, 0, 0, 0.15);\n",
              "      filter: drop-shadow(0px 1px 2px rgba(0, 0, 0, 0.3));\n",
              "      fill: #FFFFFF;\n",
              "    }\n",
              "  </style>\n",
              "\n",
              "      <script>\n",
              "        const buttonEl =\n",
              "          document.querySelector('#df-4afd77bb-a5d2-477e-96c9-a8774bb3e226 button.colab-df-convert');\n",
              "        buttonEl.style.display =\n",
              "          google.colab.kernel.accessAllowed ? 'block' : 'none';\n",
              "\n",
              "        async function convertToInteractive(key) {\n",
              "          const element = document.querySelector('#df-4afd77bb-a5d2-477e-96c9-a8774bb3e226');\n",
              "          const dataTable =\n",
              "            await google.colab.kernel.invokeFunction('convertToInteractive',\n",
              "                                                     [key], {});\n",
              "          if (!dataTable) return;\n",
              "\n",
              "          const docLinkHtml = 'Like what you see? Visit the ' +\n",
              "            '<a target=\"_blank\" href=https://colab.research.google.com/notebooks/data_table.ipynb>data table notebook</a>'\n",
              "            + ' to learn more about interactive tables.';\n",
              "          element.innerHTML = '';\n",
              "          dataTable['output_type'] = 'display_data';\n",
              "          await google.colab.output.renderOutput(dataTable, element);\n",
              "          const docLink = document.createElement('div');\n",
              "          docLink.innerHTML = docLinkHtml;\n",
              "          element.appendChild(docLink);\n",
              "        }\n",
              "      </script>\n",
              "    </div>\n",
              "  </div>\n",
              "  "
            ],
            "text/plain": [
              "      Treatment  Diagnosis  ...  Epidemic Forecasting  Case Report\n",
              "0      0.985214   0.056035  ...          4.234890e-05     0.010759\n",
              "1      0.005414   0.007420  ...          2.222346e-04     0.000008\n",
              "2      0.006578   0.003001  ...          1.785484e-05     0.000158\n",
              "3      0.969774   0.007438  ...          6.002499e-07     0.000020\n",
              "4      0.828657   0.018961  ...          5.134841e-08     0.000148\n",
              "...         ...        ...  ...                   ...          ...\n",
              "6234   0.002149   0.000574  ...          2.306114e-06     0.000013\n",
              "6235   0.244515   0.036890  ...          1.591384e-05     0.000120\n",
              "6236   0.723089   0.108597  ...          3.435083e-07     0.000063\n",
              "6237   0.026751   0.003624  ...          1.111492e-05     0.001982\n",
              "6238   0.044413   0.105872  ...          1.316197e-06     0.001253\n",
              "\n",
              "[6239 rows x 7 columns]"
            ]
          },
          "metadata": {},
          "execution_count": 120
        }
      ]
    },
    {
      "cell_type": "code",
      "source": [
        "import numpy as np\n",
        "#[6:Treatment, 4:Prevention, 3:Mechanism, 1:Diagnosis , 2:Epidemic Forecasting , 5:Transmission , 0:Case Report  ]\n",
        "predictions = pd.DataFrame(np.nan, index=[i for i in range(6239)],columns=[\"Case Report\",\"Diagnosis\",\"Epidemic Forecasting\",\"Mechanism\",\"Prevention\",\"Transmission\",\"Treatment\"])\n",
        "#predictions = predictions.append(pd.DataFrame(knnPredictions, columns=predictions.columns))\n",
        "columns=[\"Case Report\",\"Diagnosis\",\"Epidemic Forecasting\",\"Mechanism\",\"Prevention\",\"Transmission\",\"Treatment\"]\n",
        "for i in range(7):\n",
        "  for j in range(6239):\n",
        "    predictions[columns[i]][j] = knnPredictions[i][j][1]\n"
      ],
      "metadata": {
        "id": "h_t6cPeRL-vL"
      },
      "execution_count": null,
      "outputs": []
    },
    {
      "cell_type": "code",
      "source": [
        "predictions = predictions[[\"Treatment\",\"Diagnosis\", \"Prevention\", \"Mechanism\", \"Transmission\",\"Epidemic Forecasting\", \"Case Report\"]]"
      ],
      "metadata": {
        "id": "W-Z6snHKOEWB"
      },
      "execution_count": null,
      "outputs": []
    },
    {
      "cell_type": "code",
      "source": [
        "predictions"
      ],
      "metadata": {
        "colab": {
          "base_uri": "https://localhost:8080/",
          "height": 485
        },
        "id": "L0jMmWXOwJXy",
        "outputId": "ab4529d1-e1b0-4790-b980-e60d1b38cf3d"
      },
      "execution_count": null,
      "outputs": [
        {
          "output_type": "execute_result",
          "data": {
            "text/html": [
              "\n",
              "  <div id=\"df-7b045684-a1fd-4700-867a-1d42867ec198\">\n",
              "    <div class=\"colab-df-container\">\n",
              "      <div>\n",
              "<style scoped>\n",
              "    .dataframe tbody tr th:only-of-type {\n",
              "        vertical-align: middle;\n",
              "    }\n",
              "\n",
              "    .dataframe tbody tr th {\n",
              "        vertical-align: top;\n",
              "    }\n",
              "\n",
              "    .dataframe thead th {\n",
              "        text-align: right;\n",
              "    }\n",
              "</style>\n",
              "<table border=\"1\" class=\"dataframe\">\n",
              "  <thead>\n",
              "    <tr style=\"text-align: right;\">\n",
              "      <th></th>\n",
              "      <th>Treatment</th>\n",
              "      <th>Diagnosis</th>\n",
              "      <th>Prevention</th>\n",
              "      <th>Mechanism</th>\n",
              "      <th>Transmission</th>\n",
              "      <th>Epidemic Forecasting</th>\n",
              "      <th>Case Report</th>\n",
              "    </tr>\n",
              "  </thead>\n",
              "  <tbody>\n",
              "    <tr>\n",
              "      <th>0</th>\n",
              "      <td>1.0</td>\n",
              "      <td>0.0</td>\n",
              "      <td>0.0</td>\n",
              "      <td>0.8</td>\n",
              "      <td>0.0</td>\n",
              "      <td>0.0</td>\n",
              "      <td>0.0</td>\n",
              "    </tr>\n",
              "    <tr>\n",
              "      <th>1</th>\n",
              "      <td>0.0</td>\n",
              "      <td>0.0</td>\n",
              "      <td>0.8</td>\n",
              "      <td>0.0</td>\n",
              "      <td>0.0</td>\n",
              "      <td>0.6</td>\n",
              "      <td>0.0</td>\n",
              "    </tr>\n",
              "    <tr>\n",
              "      <th>2</th>\n",
              "      <td>0.0</td>\n",
              "      <td>0.0</td>\n",
              "      <td>1.0</td>\n",
              "      <td>0.0</td>\n",
              "      <td>0.0</td>\n",
              "      <td>0.0</td>\n",
              "      <td>0.0</td>\n",
              "    </tr>\n",
              "    <tr>\n",
              "      <th>3</th>\n",
              "      <td>1.0</td>\n",
              "      <td>0.0</td>\n",
              "      <td>0.0</td>\n",
              "      <td>1.0</td>\n",
              "      <td>0.0</td>\n",
              "      <td>0.0</td>\n",
              "      <td>0.0</td>\n",
              "    </tr>\n",
              "    <tr>\n",
              "      <th>4</th>\n",
              "      <td>0.8</td>\n",
              "      <td>0.2</td>\n",
              "      <td>0.8</td>\n",
              "      <td>0.0</td>\n",
              "      <td>0.0</td>\n",
              "      <td>0.0</td>\n",
              "      <td>0.0</td>\n",
              "    </tr>\n",
              "    <tr>\n",
              "      <th>...</th>\n",
              "      <td>...</td>\n",
              "      <td>...</td>\n",
              "      <td>...</td>\n",
              "      <td>...</td>\n",
              "      <td>...</td>\n",
              "      <td>...</td>\n",
              "      <td>...</td>\n",
              "    </tr>\n",
              "    <tr>\n",
              "      <th>6234</th>\n",
              "      <td>0.2</td>\n",
              "      <td>0.0</td>\n",
              "      <td>1.0</td>\n",
              "      <td>0.0</td>\n",
              "      <td>0.0</td>\n",
              "      <td>0.0</td>\n",
              "      <td>0.0</td>\n",
              "    </tr>\n",
              "    <tr>\n",
              "      <th>6235</th>\n",
              "      <td>0.2</td>\n",
              "      <td>0.0</td>\n",
              "      <td>0.0</td>\n",
              "      <td>1.0</td>\n",
              "      <td>0.4</td>\n",
              "      <td>0.0</td>\n",
              "      <td>0.0</td>\n",
              "    </tr>\n",
              "    <tr>\n",
              "      <th>6236</th>\n",
              "      <td>0.6</td>\n",
              "      <td>0.8</td>\n",
              "      <td>0.2</td>\n",
              "      <td>0.0</td>\n",
              "      <td>0.0</td>\n",
              "      <td>0.0</td>\n",
              "      <td>0.0</td>\n",
              "    </tr>\n",
              "    <tr>\n",
              "      <th>6237</th>\n",
              "      <td>0.6</td>\n",
              "      <td>0.0</td>\n",
              "      <td>0.6</td>\n",
              "      <td>0.0</td>\n",
              "      <td>0.0</td>\n",
              "      <td>0.0</td>\n",
              "      <td>0.0</td>\n",
              "    </tr>\n",
              "    <tr>\n",
              "      <th>6238</th>\n",
              "      <td>0.4</td>\n",
              "      <td>0.6</td>\n",
              "      <td>0.4</td>\n",
              "      <td>0.0</td>\n",
              "      <td>0.0</td>\n",
              "      <td>0.0</td>\n",
              "      <td>0.0</td>\n",
              "    </tr>\n",
              "  </tbody>\n",
              "</table>\n",
              "<p>6239 rows × 7 columns</p>\n",
              "</div>\n",
              "      <button class=\"colab-df-convert\" onclick=\"convertToInteractive('df-7b045684-a1fd-4700-867a-1d42867ec198')\"\n",
              "              title=\"Convert this dataframe to an interactive table.\"\n",
              "              style=\"display:none;\">\n",
              "        \n",
              "  <svg xmlns=\"http://www.w3.org/2000/svg\" height=\"24px\"viewBox=\"0 0 24 24\"\n",
              "       width=\"24px\">\n",
              "    <path d=\"M0 0h24v24H0V0z\" fill=\"none\"/>\n",
              "    <path d=\"M18.56 5.44l.94 2.06.94-2.06 2.06-.94-2.06-.94-.94-2.06-.94 2.06-2.06.94zm-11 1L8.5 8.5l.94-2.06 2.06-.94-2.06-.94L8.5 2.5l-.94 2.06-2.06.94zm10 10l.94 2.06.94-2.06 2.06-.94-2.06-.94-.94-2.06-.94 2.06-2.06.94z\"/><path d=\"M17.41 7.96l-1.37-1.37c-.4-.4-.92-.59-1.43-.59-.52 0-1.04.2-1.43.59L10.3 9.45l-7.72 7.72c-.78.78-.78 2.05 0 2.83L4 21.41c.39.39.9.59 1.41.59.51 0 1.02-.2 1.41-.59l7.78-7.78 2.81-2.81c.8-.78.8-2.07 0-2.86zM5.41 20L4 18.59l7.72-7.72 1.47 1.35L5.41 20z\"/>\n",
              "  </svg>\n",
              "      </button>\n",
              "      \n",
              "  <style>\n",
              "    .colab-df-container {\n",
              "      display:flex;\n",
              "      flex-wrap:wrap;\n",
              "      gap: 12px;\n",
              "    }\n",
              "\n",
              "    .colab-df-convert {\n",
              "      background-color: #E8F0FE;\n",
              "      border: none;\n",
              "      border-radius: 50%;\n",
              "      cursor: pointer;\n",
              "      display: none;\n",
              "      fill: #1967D2;\n",
              "      height: 32px;\n",
              "      padding: 0 0 0 0;\n",
              "      width: 32px;\n",
              "    }\n",
              "\n",
              "    .colab-df-convert:hover {\n",
              "      background-color: #E2EBFA;\n",
              "      box-shadow: 0px 1px 2px rgba(60, 64, 67, 0.3), 0px 1px 3px 1px rgba(60, 64, 67, 0.15);\n",
              "      fill: #174EA6;\n",
              "    }\n",
              "\n",
              "    [theme=dark] .colab-df-convert {\n",
              "      background-color: #3B4455;\n",
              "      fill: #D2E3FC;\n",
              "    }\n",
              "\n",
              "    [theme=dark] .colab-df-convert:hover {\n",
              "      background-color: #434B5C;\n",
              "      box-shadow: 0px 1px 3px 1px rgba(0, 0, 0, 0.15);\n",
              "      filter: drop-shadow(0px 1px 2px rgba(0, 0, 0, 0.3));\n",
              "      fill: #FFFFFF;\n",
              "    }\n",
              "  </style>\n",
              "\n",
              "      <script>\n",
              "        const buttonEl =\n",
              "          document.querySelector('#df-7b045684-a1fd-4700-867a-1d42867ec198 button.colab-df-convert');\n",
              "        buttonEl.style.display =\n",
              "          google.colab.kernel.accessAllowed ? 'block' : 'none';\n",
              "\n",
              "        async function convertToInteractive(key) {\n",
              "          const element = document.querySelector('#df-7b045684-a1fd-4700-867a-1d42867ec198');\n",
              "          const dataTable =\n",
              "            await google.colab.kernel.invokeFunction('convertToInteractive',\n",
              "                                                     [key], {});\n",
              "          if (!dataTable) return;\n",
              "\n",
              "          const docLinkHtml = 'Like what you see? Visit the ' +\n",
              "            '<a target=\"_blank\" href=https://colab.research.google.com/notebooks/data_table.ipynb>data table notebook</a>'\n",
              "            + ' to learn more about interactive tables.';\n",
              "          element.innerHTML = '';\n",
              "          dataTable['output_type'] = 'display_data';\n",
              "          await google.colab.output.renderOutput(dataTable, element);\n",
              "          const docLink = document.createElement('div');\n",
              "          docLink.innerHTML = docLinkHtml;\n",
              "          element.appendChild(docLink);\n",
              "        }\n",
              "      </script>\n",
              "    </div>\n",
              "  </div>\n",
              "  "
            ],
            "text/plain": [
              "      Treatment  Diagnosis  ...  Epidemic Forecasting  Case Report\n",
              "0           1.0        0.0  ...                   0.0          0.0\n",
              "1           0.0        0.0  ...                   0.6          0.0\n",
              "2           0.0        0.0  ...                   0.0          0.0\n",
              "3           1.0        0.0  ...                   0.0          0.0\n",
              "4           0.8        0.2  ...                   0.0          0.0\n",
              "...         ...        ...  ...                   ...          ...\n",
              "6234        0.2        0.0  ...                   0.0          0.0\n",
              "6235        0.2        0.0  ...                   0.0          0.0\n",
              "6236        0.6        0.8  ...                   0.0          0.0\n",
              "6237        0.6        0.0  ...                   0.0          0.0\n",
              "6238        0.4        0.6  ...                   0.0          0.0\n",
              "\n",
              "[6239 rows x 7 columns]"
            ]
          },
          "metadata": {},
          "execution_count": 138
        }
      ]
    },
    {
      "cell_type": "code",
      "source": [
        "predictions.to_csv(\"/content/predictions.csv\")"
      ],
      "metadata": {
        "id": "iBG2fHMaNevr"
      },
      "execution_count": null,
      "outputs": []
    },
    {
      "cell_type": "code",
      "source": [
        "testResults.to_csv(\"/content/testResults.csv\")"
      ],
      "metadata": {
        "id": "qKP8Nk2vNy3L"
      },
      "execution_count": null,
      "outputs": []
    },
    {
      "cell_type": "code",
      "source": [
        "from sklearn.metrics import accuracy_score, precision_score, recall_score, f1_score, confusion_matrix, hamming_loss\n",
        "\n",
        "macro_f1 = f1_score(test_labels, knnPredictions, average='macro')\n",
        "\n",
        "micro_f1 = f1_score(test_labels, knnPredictions, average='micro')\n",
        "    \n",
        "hamLoss = hamming_loss(test_labels, knnPredictions)"
      ],
      "metadata": {
        "id": "zIzN6qSAOLe3"
      },
      "execution_count": null,
      "outputs": []
    },
    {
      "cell_type": "code",
      "source": [
        "print(macro_f1)\n",
        "print(micro_f1)\n",
        "print(hamLoss)"
      ],
      "metadata": {
        "colab": {
          "base_uri": "https://localhost:8080/"
        },
        "id": "gnJBFvEPOfXt",
        "outputId": "a1508158-9b28-49ca-ba14-1f8662437744"
      },
      "execution_count": null,
      "outputs": [
        {
          "output_type": "stream",
          "name": "stdout",
          "text": [
            "0.44898878235452205\n",
            "0.75883277523406\n",
            "0.08080507407322603\n"
          ]
        }
      ]
    },
    {
      "cell_type": "code",
      "source": [
        "!git clone https://github.com/ncbi/biocreative_litcovid.git"
      ],
      "metadata": {
        "colab": {
          "base_uri": "https://localhost:8080/"
        },
        "id": "6cT74ny7OS3f",
        "outputId": "dcdfa40c-aeab-4262-de05-10d7f4b215c8"
      },
      "execution_count": null,
      "outputs": [
        {
          "output_type": "stream",
          "name": "stdout",
          "text": [
            "Cloning into 'biocreative_litcovid'...\n",
            "remote: Enumerating objects: 32, done.\u001b[K\n",
            "remote: Counting objects: 100% (32/32), done.\u001b[K\n",
            "remote: Compressing objects: 100% (28/28), done.\u001b[K\n",
            "remote: Total 32 (delta 15), reused 12 (delta 4), pack-reused 0\u001b[K\n",
            "Unpacking objects: 100% (32/32), done.\n"
          ]
        }
      ]
    },
    {
      "cell_type": "code",
      "source": [
        "!cd biocreative_litcovid"
      ],
      "metadata": {
        "id": "4ABCfoAtOcfT"
      },
      "execution_count": null,
      "outputs": []
    },
    {
      "cell_type": "code",
      "source": [
        "!python /content/biocreative_litcovid/biocreative_litcovid_eval.py --gold /content/testResults.csv --pred /content/predictions.csv"
      ],
      "metadata": {
        "colab": {
          "base_uri": "https://localhost:8080/"
        },
        "id": "dq7TamV4Ok2n",
        "outputId": "7a8d86b9-5b52-4a11-b4c3-377655065af3"
      },
      "execution_count": null,
      "outputs": [
        {
          "output_type": "stream",
          "name": "stdout",
          "text": [
            "validation starts...\n",
            "validation passes...\n",
            "label-based measures...\n",
            "/usr/local/lib/python3.7/dist-packages/sklearn/metrics/_classification.py:1308: UndefinedMetricWarning: Precision and F-score are ill-defined and being set to 0.0 in samples with no predicted labels. Use `zero_division` parameter to control this behavior.\n",
            "  _warn_prf(average, modifier, msg_start, len(result))\n",
            "                      precision    recall  f1-score   support\n",
            "\n",
            "           Treatment     0.7973    0.8197    0.8083      2207\n",
            "           Diagnosis     0.7062    0.7820    0.7422      1546\n",
            "          Prevention     0.8977    0.8647    0.8809      2750\n",
            "           Mechanism     0.8341    0.6980    0.7600      1073\n",
            "        Transmission     0.5535    0.3438    0.4241       256\n",
            "Epidemic Forecasting     0.6725    0.5990    0.6336       192\n",
            "         Case Report     0.7718    0.3299    0.4622       482\n",
            "\n",
            "           micro avg     0.8069    0.7650    0.7854      8506\n",
            "           macro avg     0.7476    0.6339    0.6730      8506\n",
            "        weighted avg     0.8062    0.7650    0.7785      8506\n",
            "         samples avg     0.8096    0.7913    0.7835      8506\n",
            "\n",
            "instance-based measures\n",
            "mean precision 0.8096\n",
            "mean recall 0.7913\n",
            "f1 0.8003\n"
          ]
        }
      ]
    },
    {
      "cell_type": "code",
      "source": [
        "from google.colab import files\n",
        "files.download('/content/predictions.csv') "
      ],
      "metadata": {
        "id": "62pADqAZSTPF"
      },
      "execution_count": null,
      "outputs": []
    }
  ]
}