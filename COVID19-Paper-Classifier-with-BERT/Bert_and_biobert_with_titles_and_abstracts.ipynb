{
  "cells": [
    {
      "cell_type": "code",
      "execution_count": 23,
      "metadata": {
        "colab": {
          "base_uri": "https://localhost:8080/"
        },
        "id": "uEA-F_FFzj9F",
        "outputId": "4d91acdc-08c4-4b91-de46-166724782fc0"
      },
      "outputs": [
        {
          "output_type": "stream",
          "name": "stdout",
          "text": [
            "Requirement already satisfied: transformers in /usr/local/lib/python3.7/dist-packages (4.15.0)\n",
            "Requirement already satisfied: requests in /usr/local/lib/python3.7/dist-packages (from transformers) (2.23.0)\n",
            "Requirement already satisfied: regex!=2019.12.17 in /usr/local/lib/python3.7/dist-packages (from transformers) (2019.12.20)\n",
            "Requirement already satisfied: importlib-metadata in /usr/local/lib/python3.7/dist-packages (from transformers) (4.10.0)\n",
            "Requirement already satisfied: numpy>=1.17 in /usr/local/lib/python3.7/dist-packages (from transformers) (1.19.5)\n",
            "Requirement already satisfied: filelock in /usr/local/lib/python3.7/dist-packages (from transformers) (3.4.2)\n",
            "Requirement already satisfied: pyyaml>=5.1 in /usr/local/lib/python3.7/dist-packages (from transformers) (6.0)\n",
            "Requirement already satisfied: tokenizers<0.11,>=0.10.1 in /usr/local/lib/python3.7/dist-packages (from transformers) (0.10.3)\n",
            "Requirement already satisfied: tqdm>=4.27 in /usr/local/lib/python3.7/dist-packages (from transformers) (4.62.3)\n",
            "Requirement already satisfied: packaging>=20.0 in /usr/local/lib/python3.7/dist-packages (from transformers) (21.3)\n",
            "Requirement already satisfied: sacremoses in /usr/local/lib/python3.7/dist-packages (from transformers) (0.0.47)\n",
            "Requirement already satisfied: huggingface-hub<1.0,>=0.1.0 in /usr/local/lib/python3.7/dist-packages (from transformers) (0.4.0)\n",
            "Requirement already satisfied: typing-extensions>=3.7.4.3 in /usr/local/lib/python3.7/dist-packages (from huggingface-hub<1.0,>=0.1.0->transformers) (3.10.0.2)\n",
            "Requirement already satisfied: pyparsing!=3.0.5,>=2.0.2 in /usr/local/lib/python3.7/dist-packages (from packaging>=20.0->transformers) (3.0.6)\n",
            "Requirement already satisfied: zipp>=0.5 in /usr/local/lib/python3.7/dist-packages (from importlib-metadata->transformers) (3.7.0)\n",
            "Requirement already satisfied: certifi>=2017.4.17 in /usr/local/lib/python3.7/dist-packages (from requests->transformers) (2021.10.8)\n",
            "Requirement already satisfied: idna<3,>=2.5 in /usr/local/lib/python3.7/dist-packages (from requests->transformers) (2.10)\n",
            "Requirement already satisfied: chardet<4,>=3.0.2 in /usr/local/lib/python3.7/dist-packages (from requests->transformers) (3.0.4)\n",
            "Requirement already satisfied: urllib3!=1.25.0,!=1.25.1,<1.26,>=1.21.1 in /usr/local/lib/python3.7/dist-packages (from requests->transformers) (1.24.3)\n",
            "Requirement already satisfied: click in /usr/local/lib/python3.7/dist-packages (from sacremoses->transformers) (7.1.2)\n",
            "Requirement already satisfied: six in /usr/local/lib/python3.7/dist-packages (from sacremoses->transformers) (1.15.0)\n",
            "Requirement already satisfied: joblib in /usr/local/lib/python3.7/dist-packages (from sacremoses->transformers) (1.1.0)\n"
          ]
        }
      ],
      "source": [
        "!pip install transformers\n",
        "!pip install -q transformers"
      ]
    },
    {
      "cell_type": "code",
      "execution_count": 24,
      "metadata": {
        "id": "KvotKPHPgyS0"
      },
      "outputs": [],
      "source": [
        "from nltk.corpus import stopwords\n",
        "import os\n",
        "import nltk\n",
        "import sklearn\n",
        "import nltk\n",
        "import pandas as pd\n",
        "from nltk.stem import WordNetLemmatizer\n",
        "from nltk.stem import PorterStemmer\n",
        "import pandas as pd\n",
        "import torch\n",
        "import numpy as np\n",
        "from transformers import BertTokenizer, BertModel\n",
        "from torch import nn\n",
        "from torch.optim import Adam\n",
        "from tqdm import tqdm"
      ]
    },
    {
      "cell_type": "code",
      "execution_count": 25,
      "metadata": {
        "colab": {
          "base_uri": "https://localhost:8080/"
        },
        "id": "bYInlcQYg8ay",
        "outputId": "7579ae28-d3bf-47c1-ac2b-68829bf35801"
      },
      "outputs": [
        {
          "output_type": "stream",
          "name": "stdout",
          "text": [
            "<bound method NDFrame.head of            pmid  ...                 label\n",
            "0      32519164  ...   Treatment;Mechanism\n",
            "1      32691006  ...  Treatment;Prevention\n",
            "2      32858315  ...           Case Report\n",
            "3      32985329  ...            Prevention\n",
            "4      32812051  ...             Treatment\n",
            "...         ...  ...                   ...\n",
            "24955  32508388  ...            Prevention\n",
            "24956  32815519  ...             Diagnosis\n",
            "24957  32904987  ...   Treatment;Diagnosis\n",
            "24958  32892181  ...            Prevention\n",
            "24959  32389144  ...            Prevention\n",
            "\n",
            "[24960 rows x 9 columns]>\n"
          ]
        }
      ],
      "source": [
        "df = pd.read_csv(\"/content/BC7-LitCovid-Train.csv\")\n",
        "df2 = pd.read_csv(\"/content/BC7-LitCovid-Dev (1).csv\")\n",
        "\n",
        "print(df.head)"
      ]
    },
    {
      "cell_type": "code",
      "execution_count": 26,
      "metadata": {
        "colab": {
          "base_uri": "https://localhost:8080/"
        },
        "id": "LjQBvku-tZzx",
        "outputId": "7807f5b9-a537-4df4-f240-d5abaf6f8c0b"
      },
      "outputs": [
        {
          "output_type": "stream",
          "name": "stdout",
          "text": [
            "[nltk_data] Downloading package punkt to /root/nltk_data...\n",
            "[nltk_data]   Package punkt is already up-to-date!\n"
          ]
        },
        {
          "output_type": "execute_result",
          "data": {
            "text/plain": [
              "True"
            ]
          },
          "metadata": {},
          "execution_count": 26
        }
      ],
      "source": [
        "import nltk\n",
        "nltk.download('punkt')"
      ]
    },
    {
      "cell_type": "code",
      "execution_count": 27,
      "metadata": {
        "id": "rYX4sRGXxdr1"
      },
      "outputs": [],
      "source": [
        "testResults = pd.DataFrame(columns=['Treatment','Diagnosis','Prevention','Mechanism','Transmission','Epidemic Forecasting','Case Report'])\n",
        "\n",
        "for el in df2[\"label\"]:\n",
        "  rowList = []\n",
        "  if \"Treatment\" in el:\n",
        "    rowList.append(1)\n",
        "  else:\n",
        "    rowList.append(0)\n",
        "  if 'Diagnosis' in el:\n",
        "    rowList.append(1)\n",
        "  else:\n",
        "    rowList.append(0)\n",
        "  if 'Prevention' in el:\n",
        "    rowList.append(1)\n",
        "  else:\n",
        "    rowList.append(0)\n",
        "  if 'Mechanism' in el:\n",
        "    rowList.append(1)\n",
        "  else:\n",
        "    rowList.append(0)\n",
        "  if 'Transmission' in el:\n",
        "    rowList.append(1)\n",
        "  else:\n",
        "    rowList.append(0)\n",
        "  if 'Epidemic Forecasting' in el:\n",
        "    rowList.append(1)\n",
        "  else:\n",
        "    rowList.append(0)\n",
        "  if 'Case Report' in el:\n",
        "    rowList.append(1)\n",
        "  else:\n",
        "    rowList.append(0)\n",
        "\n",
        "  df_length = len(testResults)\n",
        "  testResults.loc[df_length] = rowList\n",
        "\n",
        "\n"
      ]
    },
    {
      "cell_type": "code",
      "execution_count": 28,
      "metadata": {
        "colab": {
          "base_uri": "https://localhost:8080/"
        },
        "id": "GneNyDOZ0haN",
        "outputId": "03f15a03-c4b1-489e-df54-ed91a5a57d16"
      },
      "outputs": [
        {
          "output_type": "stream",
          "name": "stdout",
          "text": [
            "[nltk_data] Downloading package stopwords to /root/nltk_data...\n",
            "[nltk_data]   Package stopwords is already up-to-date!\n"
          ]
        },
        {
          "output_type": "execute_result",
          "data": {
            "text/plain": [
              "True"
            ]
          },
          "metadata": {},
          "execution_count": 28
        }
      ],
      "source": [
        "import nltk\n",
        "nltk.download('stopwords')"
      ]
    },
    {
      "cell_type": "code",
      "execution_count": 29,
      "metadata": {
        "id": "gH0wRx24CdfY"
      },
      "outputs": [],
      "source": [
        "wordnet_lemmatizer = WordNetLemmatizer()\n",
        "stemmer = PorterStemmer()\n",
        "stopwords = stopwords.words('english')\n",
        "stopwords = set(stopwords)\n",
        "\n",
        "def tokenize_lemma_stopwords(text):\n",
        "    text = text.replace(\"\\n\", \" \")\n",
        "    # split string into words (tokens)\n",
        "    tokens = nltk.tokenize.word_tokenize(text.lower())\n",
        "    # keep strings with only alphabets\n",
        "    tokens = [t for t in tokens if t.isalpha()]\n",
        "    # put words into base form\n",
        "    tokens = [wordnet_lemmatizer.lemmatize(t) for t in tokens] \n",
        "    tokens = [stemmer.stem(t) for t in tokens]\n",
        "    # remove short words, they're probably not useful\n",
        "    tokens = [t for t in tokens if len(t) > 2]\n",
        "    tokens = [t for t in tokens if t not in stopwords] # remove stopwords\n",
        "    cleanedText = \" \".join(tokens)\n",
        "    return cleanedText\n",
        "\n",
        "def dataCleaning(df):\n",
        "    data = df.copy()\n",
        "    data[\"content\"] =(df[\"title\"] + \" \" +df[\"abstract\"]).apply(tokenize_lemma_stopwords)\n",
        "    return data"
      ]
    },
    {
      "cell_type": "code",
      "execution_count": 30,
      "metadata": {
        "colab": {
          "base_uri": "https://localhost:8080/"
        },
        "id": "-A5zhXeZCfV3",
        "outputId": "66f9465f-84d4-4112-9fd1-3ab40eacaa28"
      },
      "outputs": [
        {
          "output_type": "stream",
          "name": "stdout",
          "text": [
            "[nltk_data] Downloading package stopwords to /root/nltk_data...\n",
            "[nltk_data]   Package stopwords is already up-to-date!\n",
            "[nltk_data] Downloading package punkt to /root/nltk_data...\n",
            "[nltk_data]   Package punkt is already up-to-date!\n",
            "[nltk_data] Downloading package wordnet to /root/nltk_data...\n",
            "[nltk_data]   Package wordnet is already up-to-date!\n"
          ]
        }
      ],
      "source": [
        "nltk.download('stopwords')\n",
        "nltk.download('punkt')\n",
        "nltk.download('wordnet')\n",
        "counterAlpha = 0\n",
        "counterStopWords =0\n",
        "cleanedTrainData = dataCleaning(df)\n",
        "counterAlpha = 0\n",
        "counterStopWords =0\n",
        "cleanedTestData = dataCleaning(df2)"
      ]
    },
    {
      "cell_type": "code",
      "execution_count": 31,
      "metadata": {
        "id": "Y3hAWJHCLrKp",
        "colab": {
          "base_uri": "https://localhost:8080/"
        },
        "outputId": "aea28f46-8a60-43f0-a359-5d871cd34f9f"
      },
      "outputs": [
        {
          "output_type": "stream",
          "name": "stderr",
          "text": [
            "/usr/local/lib/python3.7/dist-packages/ipykernel_launcher.py:4: SettingWithCopyWarning: \n",
            "A value is trying to be set on a copy of a slice from a DataFrame\n",
            "\n",
            "See the caveats in the documentation: https://pandas.pydata.org/pandas-docs/stable/user_guide/indexing.html#returning-a-view-versus-a-copy\n",
            "  after removing the cwd from sys.path.\n",
            "/usr/local/lib/python3.7/dist-packages/ipykernel_launcher.py:6: SettingWithCopyWarning: \n",
            "A value is trying to be set on a copy of a slice from a DataFrame\n",
            "\n",
            "See the caveats in the documentation: https://pandas.pydata.org/pandas-docs/stable/user_guide/indexing.html#returning-a-view-versus-a-copy\n",
            "  \n"
          ]
        },
        {
          "output_type": "stream",
          "name": "stdout",
          "text": [
            "[[0 0 0 ... 0 0 1]\n",
            " [0 0 0 ... 1 0 1]\n",
            " [1 0 0 ... 0 0 0]\n",
            " ...\n",
            " [0 1 0 ... 0 0 1]\n",
            " [0 0 0 ... 1 0 0]\n",
            " [0 0 0 ... 1 0 0]]\n",
            "[[0 0 0 ... 0 0 1]\n",
            " [0 0 1 ... 1 0 0]\n",
            " [0 0 0 ... 1 0 0]\n",
            " ...\n",
            " [0 0 0 ... 0 0 1]\n",
            " [0 0 0 ... 1 0 0]\n",
            " [0 1 0 ... 0 0 1]]\n"
          ]
        }
      ],
      "source": [
        "from sklearn.preprocessing import MultiLabelBinarizer\n",
        "\n",
        "for i in range(len(cleanedTrainData[\"label\"])):\n",
        "  cleanedTrainData[\"label\"][i] = str(cleanedTrainData[\"label\"][i]).split(\";\")\n",
        "for i in range(len(cleanedTestData[\"label\"])):\n",
        "  cleanedTestData[\"label\"][i] = str(cleanedTestData[\"label\"][i]).split(\";\")\n",
        "\n",
        "mlb = MultiLabelBinarizer()\n",
        "train_labels = mlb.fit_transform(cleanedTrainData[\"label\"])\n",
        "test_labels = mlb.transform(cleanedTestData[\"label\"])\n",
        "print(train_labels)\n",
        "print(test_labels)"
      ]
    },
    {
      "cell_type": "code",
      "source": [
        "torch.cuda.empty_cache()"
      ],
      "metadata": {
        "id": "v9_0LHyMarGx"
      },
      "execution_count": 33,
      "outputs": []
    },
    {
      "cell_type": "code",
      "source": [
        "import gc\n",
        "del model\n",
        "gc.collect()"
      ],
      "metadata": {
        "colab": {
          "base_uri": "https://localhost:8080/"
        },
        "id": "HjEZTkRfbReX",
        "outputId": "4b5fd54b-5e16-48b2-e648-752b5f1582b0"
      },
      "execution_count": 32,
      "outputs": [
        {
          "output_type": "execute_result",
          "data": {
            "text/plain": [
              "50"
            ]
          },
          "metadata": {},
          "execution_count": 32
        }
      ]
    },
    {
      "cell_type": "code",
      "source": [
        "!nvidia-smi\n"
      ],
      "metadata": {
        "colab": {
          "base_uri": "https://localhost:8080/"
        },
        "id": "plrYcfswq8rN",
        "outputId": "45baf72e-99e5-48e4-a17b-d0b1f8f0810c"
      },
      "execution_count": null,
      "outputs": [
        {
          "output_type": "stream",
          "name": "stdout",
          "text": [
            "Fri Jan 14 12:59:53 2022       \n",
            "+-----------------------------------------------------------------------------+\n",
            "| NVIDIA-SMI 495.46       Driver Version: 460.32.03    CUDA Version: 11.2     |\n",
            "|-------------------------------+----------------------+----------------------+\n",
            "| GPU  Name        Persistence-M| Bus-Id        Disp.A | Volatile Uncorr. ECC |\n",
            "| Fan  Temp  Perf  Pwr:Usage/Cap|         Memory-Usage | GPU-Util  Compute M. |\n",
            "|                               |                      |               MIG M. |\n",
            "|===============================+======================+======================|\n",
            "|   0  Tesla T4            Off  | 00000000:00:04.0 Off |                    0 |\n",
            "| N/A   72C    P0    31W /  70W |  13184MiB / 15109MiB |      0%      Default |\n",
            "|                               |                      |                  N/A |\n",
            "+-------------------------------+----------------------+----------------------+\n",
            "                                                                               \n",
            "+-----------------------------------------------------------------------------+\n",
            "| Processes:                                                                  |\n",
            "|  GPU   GI   CI        PID   Type   Process name                  GPU Memory |\n",
            "|        ID   ID                                                   Usage      |\n",
            "|=============================================================================|\n",
            "|  No running processes found                                                 |\n",
            "+-----------------------------------------------------------------------------+\n"
          ]
        }
      ]
    },
    {
      "cell_type": "code",
      "source": [
        "import torch\n",
        "import torch.nn as nn\n",
        "import pandas as pd\n",
        "import numpy as np\n",
        "import shutil\n",
        "import sys"
      ],
      "metadata": {
        "id": "AkWNr-jyrKPV"
      },
      "execution_count": 34,
      "outputs": []
    },
    {
      "cell_type": "code",
      "source": [
        "# hyperparameters\n",
        "MAX_LEN = 512\n",
        "TRAIN_BATCH_SIZE = 8\n",
        "VALID_BATCH_SIZE = 4\n",
        "EPOCHS = 4\n",
        "LEARNING_RATE = 1e-05"
      ],
      "metadata": {
        "id": "ejXTIzREsXVB"
      },
      "execution_count": 35,
      "outputs": []
    },
    {
      "cell_type": "code",
      "source": [
        "from transformers import BertTokenizer, BertModel"
      ],
      "metadata": {
        "id": "OpOVGuYJsXdA"
      },
      "execution_count": 36,
      "outputs": []
    },
    {
      "cell_type": "code",
      "source": [
        "tokenizer = BertTokenizer.from_pretrained('bert-base-uncased')"
      ],
      "metadata": {
        "id": "0Zr43T9QsXjL"
      },
      "execution_count": 37,
      "outputs": []
    },
    {
      "cell_type": "code",
      "source": [
        "class CustomDataset(torch.utils.data.Dataset):\n",
        "\n",
        "    def __init__(self, df, labels, tokenizer, max_len):\n",
        "        self.tokenizer = tokenizer\n",
        "        self.df = df\n",
        "        self.title = df['content']\n",
        "        self.targets = labels\n",
        "        self.max_len = max_len\n",
        "\n",
        "    def __len__(self):\n",
        "        return len(self.title)\n",
        "\n",
        "    def __getitem__(self, index):\n",
        "        title = str(self.title[index])\n",
        "        title = \" \".join(title.split())\n",
        "\n",
        "        inputs = self.tokenizer.encode_plus(\n",
        "            title,\n",
        "            None,\n",
        "            add_special_tokens=True,\n",
        "            max_length=self.max_len,\n",
        "            padding='max_length',\n",
        "            return_token_type_ids=True,\n",
        "            truncation=True,\n",
        "            return_attention_mask=True,\n",
        "            return_tensors='pt'\n",
        "        )\n",
        "\n",
        "        return {\n",
        "            'input_ids': inputs['input_ids'].flatten(),\n",
        "            'attention_mask': inputs['attention_mask'].flatten(),\n",
        "            'token_type_ids': inputs[\"token_type_ids\"].flatten(),\n",
        "            'targets': torch.FloatTensor(self.targets[index])\n",
        "        }"
      ],
      "metadata": {
        "id": "uBgGLDLks5W2"
      },
      "execution_count": 38,
      "outputs": []
    },
    {
      "cell_type": "code",
      "source": [
        "train_df = cleanedTrainData[:20000]\n",
        "val_df = cleanedTrainData[20000:]\n",
        "test_df = cleanedTestData\n",
        "val_df.reset_index(drop=True, inplace=True)"
      ],
      "metadata": {
        "id": "UX6mTyhktH6-"
      },
      "execution_count": 39,
      "outputs": []
    },
    {
      "cell_type": "code",
      "source": [
        "train_dataset = CustomDataset(train_df,train_labels[:20000], tokenizer, MAX_LEN)\n",
        "valid_dataset = CustomDataset(val_df,train_labels[20000:], tokenizer, MAX_LEN)\n",
        "test_dataset = CustomDataset(test_df,test_labels, tokenizer, MAX_LEN)"
      ],
      "metadata": {
        "id": "B10TMD4xtq6A"
      },
      "execution_count": 40,
      "outputs": []
    },
    {
      "cell_type": "code",
      "source": [
        "train_data_loader = torch.utils.data.DataLoader(train_dataset, \n",
        "    batch_size=TRAIN_BATCH_SIZE,\n",
        "    shuffle=True,\n",
        "    num_workers=0,\n",
        "    drop_last=True\n",
        ")\n",
        "\n",
        "val_data_loader = torch.utils.data.DataLoader(valid_dataset, \n",
        "    batch_size=VALID_BATCH_SIZE,\n",
        "    shuffle=False,\n",
        "    num_workers=0,\n",
        "    drop_last=True\n",
        ")\n",
        "test_data_loader = torch.utils.data.DataLoader(test_dataset, \n",
        "    batch_size=8,\n",
        "    shuffle=False,\n",
        "    num_workers=0,\n",
        "    drop_last=True\n",
        ")"
      ],
      "metadata": {
        "id": "kv8_5uQrtIDk"
      },
      "execution_count": 41,
      "outputs": []
    },
    {
      "cell_type": "code",
      "source": [
        "device = torch.device('cuda') if torch.cuda.is_available() else torch.device('cpu')\n"
      ],
      "metadata": {
        "id": "ZeHZxa6ZuWqe"
      },
      "execution_count": 42,
      "outputs": []
    },
    {
      "cell_type": "code",
      "source": [
        "class BERTClass(torch.nn.Module):\n",
        "    def __init__(self):\n",
        "        super(BERTClass, self).__init__()\n",
        "        self.bert_model = BertModel.from_pretrained('bert-base-uncased', return_dict=True)\n",
        "        self.dropout = torch.nn.Dropout(0.3)\n",
        "        self.linear = torch.nn.Linear(768, 7)\n",
        "    \n",
        "    def forward(self, input_ids, attn_mask, token_type_ids):\n",
        "        output = self.bert_model(\n",
        "            input_ids, \n",
        "            attention_mask=attn_mask, \n",
        "            token_type_ids=token_type_ids\n",
        "        )\n",
        "        output_dropout = self.dropout(output.pooler_output)\n",
        "        output = self.linear(output_dropout)\n",
        "        return output\n",
        "\n",
        "model = BERTClass()\n",
        "model.to(device)"
      ],
      "metadata": {
        "id": "veI6_fuwughI"
      },
      "execution_count": null,
      "outputs": []
    },
    {
      "cell_type": "code",
      "source": [
        "def loss_fn(outputs, targets):\n",
        "    return torch.nn.BCEWithLogitsLoss()(outputs, targets)\n",
        "\n",
        "optimizer = torch.optim.Adam(params =  model.parameters(), lr=LEARNING_RATE)"
      ],
      "metadata": {
        "id": "Q2vJ_lKfupGm"
      },
      "execution_count": 44,
      "outputs": []
    },
    {
      "cell_type": "code",
      "source": [
        "val_targets=[]\n",
        "val_outputs=[]"
      ],
      "metadata": {
        "id": "yiY5P7JuuqGV"
      },
      "execution_count": 45,
      "outputs": []
    },
    {
      "cell_type": "code",
      "source": [
        "def train_model(n_epochs, training_loader, validation_loader, model, \n",
        "                optimizer, checkpoint_path, best_model_path):\n",
        "   \n",
        "  # initialize tracker for minimum validation loss\n",
        "  valid_loss_min = np.Inf\n",
        "   \n",
        " \n",
        "  for epoch in range(1, n_epochs+1):\n",
        "    train_loss = 0\n",
        "    valid_loss = 0\n",
        "\n",
        "    model.train()\n",
        "    print('############# Epoch {}: Training Start   #############'.format(epoch))\n",
        "    for batch_idx, data in enumerate(training_loader):\n",
        "        #print('yyy epoch', batch_idx)\n",
        "        ids = data['input_ids'].to(device, dtype = torch.long)\n",
        "        mask = data['attention_mask'].to(device, dtype = torch.long)\n",
        "        token_type_ids = data['token_type_ids'].to(device, dtype = torch.long)\n",
        "        targets = data['targets'].to(device, dtype = torch.float)\n",
        "\n",
        "        outputs = model(ids, mask, token_type_ids)\n",
        "\n",
        "        optimizer.zero_grad()\n",
        "        loss = loss_fn(outputs, targets)\n",
        "        if batch_idx%50==0:\n",
        "            print(f'Epoch: {epoch}, Training Loss:  {loss.item()}')\n",
        "        \n",
        "        optimizer.zero_grad()\n",
        "        loss.backward()\n",
        "        optimizer.step()\n",
        "        #print('before loss data in training', loss.item(), train_loss)\n",
        "        train_loss = train_loss + ((1 / (batch_idx + 1)) * (loss.item() - train_loss))\n",
        "        #print('after loss data in training', loss.item(), train_loss)\n",
        "    \n",
        "    print('############# Epoch {}: Training End     #############'.format(epoch))\n",
        "    \n",
        "    print('############# Epoch {}: Validation Start   #############'.format(epoch))\n",
        "    ######################    \n",
        "    # validate the model #\n",
        "    ######################\n",
        " \n",
        "    model.eval()\n",
        "   \n",
        "    with torch.no_grad():\n",
        "      for batch_idx, data in enumerate(validation_loader, 0):\n",
        "            ids = data['input_ids'].to(device, dtype = torch.long)\n",
        "            mask = data['attention_mask'].to(device, dtype = torch.long)\n",
        "            token_type_ids = data['token_type_ids'].to(device, dtype = torch.long)\n",
        "            targets = data['targets'].to(device, dtype = torch.float)\n",
        "            outputs = model(ids, mask, token_type_ids)\n",
        "\n",
        "            loss = loss_fn(outputs, targets)\n",
        "            valid_loss = valid_loss + ((1 / (batch_idx + 1)) * (loss.item() - valid_loss))\n",
        "            val_targets.extend(targets.cpu().detach().numpy().tolist())\n",
        "            val_outputs.extend(torch.sigmoid(outputs).cpu().detach().numpy().tolist())\n",
        "\n",
        "      print('############# Epoch {}: Validation End     #############'.format(epoch))\n",
        "      # calculate average losses\n",
        "      #print('before cal avg train loss', train_loss)\n",
        "      train_loss = train_loss/len(training_loader)\n",
        "      valid_loss = valid_loss/len(validation_loader)\n",
        "      # print training/validation statistics \n",
        "      print('Epoch: {} \\tAvgerage Training Loss: {:.6f} \\tAverage Validation Loss: {:.6f}'.format(\n",
        "            epoch, \n",
        "            train_loss,\n",
        "            valid_loss\n",
        "            ))\n",
        "      \n",
        "      # create checkpoint variable and add important data\n",
        "      checkpoint = {\n",
        "            'epoch': epoch + 1,\n",
        "            'valid_loss_min': valid_loss,\n",
        "            'state_dict': model.state_dict(),\n",
        "            'optimizer': optimizer.state_dict()\n",
        "      }\n",
        "        \n",
        "        # save checkpoint\n",
        "      #save_ckp(checkpoint, False, checkpoint_path, best_model_path)\n",
        "        \n",
        "      ## TODO: save the model if validation loss has decreased\n",
        "      if valid_loss <= valid_loss_min:\n",
        "        print('Validation loss decreased ({:.6f} --> {:.6f}).  Saving model ...'.format(valid_loss_min,valid_loss))\n",
        "        # save checkpoint as best model\n",
        "        #save_ckp(checkpoint, True, checkpoint_path, best_model_path)\n",
        "        valid_loss_min = valid_loss\n",
        "\n",
        "    print('############# Epoch {}  Done   #############\\n'.format(epoch))\n",
        "\n",
        "  return model"
      ],
      "metadata": {
        "id": "KZa_hLb2uyt9"
      },
      "execution_count": 46,
      "outputs": []
    },
    {
      "cell_type": "code",
      "source": [
        "ckpt_path = \"/content/drive/MyDrive/datasets/multi-label/curr_ckpt\"\n",
        "best_model_path = \"/content/drive/MyDrive/datasets/multi-label/best_model.pt\""
      ],
      "metadata": {
        "id": "vpjN4s_Du1_K"
      },
      "execution_count": 47,
      "outputs": []
    },
    {
      "cell_type": "code",
      "source": [
        "trained_model = train_model(EPOCHS, train_data_loader, val_data_loader, model, optimizer, ckpt_path, best_model_path)"
      ],
      "metadata": {
        "colab": {
          "base_uri": "https://localhost:8080/"
        },
        "id": "B-x6XypEu4r5",
        "outputId": "9c2e69e7-f0b5-419f-f391-7f70d5d54dda"
      },
      "execution_count": 48,
      "outputs": [
        {
          "output_type": "stream",
          "name": "stdout",
          "text": [
            "############# Epoch 1: Training Start   #############\n",
            "Epoch: 1, Training Loss:  0.7708851099014282\n",
            "Epoch: 1, Training Loss:  0.45268428325653076\n",
            "Epoch: 1, Training Loss:  0.38154318928718567\n",
            "Epoch: 1, Training Loss:  0.3107353150844574\n",
            "Epoch: 1, Training Loss:  0.3908211290836334\n",
            "Epoch: 1, Training Loss:  0.32618629932403564\n",
            "Epoch: 1, Training Loss:  0.35729101300239563\n",
            "Epoch: 1, Training Loss:  0.24981877207756042\n",
            "Epoch: 1, Training Loss:  0.2800102233886719\n",
            "Epoch: 1, Training Loss:  0.17613181471824646\n",
            "Epoch: 1, Training Loss:  0.1322334110736847\n",
            "Epoch: 1, Training Loss:  0.18780788779258728\n",
            "Epoch: 1, Training Loss:  0.17659516632556915\n",
            "Epoch: 1, Training Loss:  0.18688686192035675\n",
            "Epoch: 1, Training Loss:  0.2271117866039276\n",
            "Epoch: 1, Training Loss:  0.12016409635543823\n",
            "Epoch: 1, Training Loss:  0.19283482432365417\n",
            "Epoch: 1, Training Loss:  0.3506220579147339\n",
            "Epoch: 1, Training Loss:  0.1890067458152771\n",
            "Epoch: 1, Training Loss:  0.22248351573944092\n",
            "Epoch: 1, Training Loss:  0.09901993721723557\n",
            "Epoch: 1, Training Loss:  0.1756555587053299\n",
            "Epoch: 1, Training Loss:  0.2559891641139984\n",
            "Epoch: 1, Training Loss:  0.23795834183692932\n",
            "Epoch: 1, Training Loss:  0.15743501484394073\n",
            "Epoch: 1, Training Loss:  0.23148341476917267\n",
            "Epoch: 1, Training Loss:  0.17084473371505737\n",
            "Epoch: 1, Training Loss:  0.1849570870399475\n",
            "Epoch: 1, Training Loss:  0.14446468651294708\n",
            "Epoch: 1, Training Loss:  0.2162339836359024\n",
            "Epoch: 1, Training Loss:  0.281045138835907\n",
            "Epoch: 1, Training Loss:  0.14662033319473267\n",
            "Epoch: 1, Training Loss:  0.1687501221895218\n",
            "Epoch: 1, Training Loss:  0.15882180631160736\n",
            "Epoch: 1, Training Loss:  0.3515600860118866\n",
            "Epoch: 1, Training Loss:  0.23719707131385803\n",
            "Epoch: 1, Training Loss:  0.17517417669296265\n",
            "Epoch: 1, Training Loss:  0.08638820052146912\n",
            "Epoch: 1, Training Loss:  0.10073171555995941\n",
            "Epoch: 1, Training Loss:  0.12486470490694046\n",
            "Epoch: 1, Training Loss:  0.22551162540912628\n",
            "Epoch: 1, Training Loss:  0.19313673675060272\n",
            "Epoch: 1, Training Loss:  0.08030520379543304\n",
            "Epoch: 1, Training Loss:  0.04394720867276192\n",
            "Epoch: 1, Training Loss:  0.13172493875026703\n",
            "Epoch: 1, Training Loss:  0.07510741055011749\n",
            "Epoch: 1, Training Loss:  0.10968897491693497\n",
            "Epoch: 1, Training Loss:  0.22021415829658508\n",
            "Epoch: 1, Training Loss:  0.14176633954048157\n",
            "Epoch: 1, Training Loss:  0.1692366898059845\n",
            "############# Epoch 1: Training End     #############\n",
            "############# Epoch 1: Validation Start   #############\n",
            "############# Epoch 1: Validation End     #############\n",
            "Epoch: 1 \tAvgerage Training Loss: 0.000086 \tAverage Validation Loss: 0.000116\n",
            "Validation loss decreased (inf --> 0.000116).  Saving model ...\n",
            "############# Epoch 1  Done   #############\n",
            "\n",
            "############# Epoch 2: Training Start   #############\n",
            "Epoch: 2, Training Loss:  0.35172075033187866\n",
            "Epoch: 2, Training Loss:  0.2510152757167816\n",
            "Epoch: 2, Training Loss:  0.10643846541643143\n",
            "Epoch: 2, Training Loss:  0.13025665283203125\n",
            "Epoch: 2, Training Loss:  0.149674654006958\n",
            "Epoch: 2, Training Loss:  0.04378090798854828\n",
            "Epoch: 2, Training Loss:  0.2826671898365021\n",
            "Epoch: 2, Training Loss:  0.3656684458255768\n",
            "Epoch: 2, Training Loss:  0.0856296569108963\n",
            "Epoch: 2, Training Loss:  0.20696653425693512\n",
            "Epoch: 2, Training Loss:  0.09381072223186493\n",
            "Epoch: 2, Training Loss:  0.1407810002565384\n",
            "Epoch: 2, Training Loss:  0.1670532375574112\n",
            "Epoch: 2, Training Loss:  0.227204367518425\n",
            "Epoch: 2, Training Loss:  0.08967764675617218\n",
            "Epoch: 2, Training Loss:  0.11682146787643433\n",
            "Epoch: 2, Training Loss:  0.12060288339853287\n",
            "Epoch: 2, Training Loss:  0.08813749253749847\n",
            "Epoch: 2, Training Loss:  0.20618374645709991\n",
            "Epoch: 2, Training Loss:  0.25300168991088867\n",
            "Epoch: 2, Training Loss:  0.1632137894630432\n",
            "Epoch: 2, Training Loss:  0.02634209580719471\n",
            "Epoch: 2, Training Loss:  0.08497513085603714\n",
            "Epoch: 2, Training Loss:  0.04164488613605499\n",
            "Epoch: 2, Training Loss:  0.08322422951459885\n",
            "Epoch: 2, Training Loss:  0.12368113547563553\n",
            "Epoch: 2, Training Loss:  0.10726338624954224\n",
            "Epoch: 2, Training Loss:  0.07814358174800873\n",
            "Epoch: 2, Training Loss:  0.1372748464345932\n",
            "Epoch: 2, Training Loss:  0.3234691023826599\n",
            "Epoch: 2, Training Loss:  0.09128895401954651\n",
            "Epoch: 2, Training Loss:  0.10925722867250443\n",
            "Epoch: 2, Training Loss:  0.21473443508148193\n",
            "Epoch: 2, Training Loss:  0.018458835780620575\n",
            "Epoch: 2, Training Loss:  0.10894139856100082\n",
            "Epoch: 2, Training Loss:  0.06226342171430588\n",
            "Epoch: 2, Training Loss:  0.09012129157781601\n",
            "Epoch: 2, Training Loss:  0.06346318870782852\n",
            "Epoch: 2, Training Loss:  0.1690148562192917\n",
            "Epoch: 2, Training Loss:  0.20349381864070892\n",
            "Epoch: 2, Training Loss:  0.09683216363191605\n",
            "Epoch: 2, Training Loss:  0.07732348889112473\n",
            "Epoch: 2, Training Loss:  0.04949231073260307\n",
            "Epoch: 2, Training Loss:  0.06615599244832993\n",
            "Epoch: 2, Training Loss:  0.10073716938495636\n",
            "Epoch: 2, Training Loss:  0.15228085219860077\n",
            "Epoch: 2, Training Loss:  0.12040135264396667\n",
            "Epoch: 2, Training Loss:  0.08766010403633118\n",
            "Epoch: 2, Training Loss:  0.14842624962329865\n",
            "Epoch: 2, Training Loss:  0.10990586131811142\n",
            "############# Epoch 2: Training End     #############\n",
            "############# Epoch 2: Validation Start   #############\n",
            "############# Epoch 2: Validation End     #############\n",
            "Epoch: 2 \tAvgerage Training Loss: 0.000051 \tAverage Validation Loss: 0.000105\n",
            "Validation loss decreased (0.000116 --> 0.000105).  Saving model ...\n",
            "############# Epoch 2  Done   #############\n",
            "\n",
            "############# Epoch 3: Training Start   #############\n",
            "Epoch: 3, Training Loss:  0.032616276293992996\n",
            "Epoch: 3, Training Loss:  0.05660402029752731\n",
            "Epoch: 3, Training Loss:  0.11613691598176956\n",
            "Epoch: 3, Training Loss:  0.21087196469306946\n",
            "Epoch: 3, Training Loss:  0.16270902752876282\n",
            "Epoch: 3, Training Loss:  0.03757844492793083\n",
            "Epoch: 3, Training Loss:  0.12466937303543091\n",
            "Epoch: 3, Training Loss:  0.03312998265028\n",
            "Epoch: 3, Training Loss:  0.09065309166908264\n",
            "Epoch: 3, Training Loss:  0.03291550278663635\n",
            "Epoch: 3, Training Loss:  0.12629476189613342\n",
            "Epoch: 3, Training Loss:  0.06925879418849945\n",
            "Epoch: 3, Training Loss:  0.07420032471418381\n",
            "Epoch: 3, Training Loss:  0.045370955020189285\n",
            "Epoch: 3, Training Loss:  0.171597421169281\n",
            "Epoch: 3, Training Loss:  0.13452287018299103\n",
            "Epoch: 3, Training Loss:  0.3069731593132019\n",
            "Epoch: 3, Training Loss:  0.055615611374378204\n",
            "Epoch: 3, Training Loss:  0.07479756325483322\n",
            "Epoch: 3, Training Loss:  0.11646051704883575\n",
            "Epoch: 3, Training Loss:  0.08213049173355103\n",
            "Epoch: 3, Training Loss:  0.1703156679868698\n",
            "Epoch: 3, Training Loss:  0.05359387397766113\n",
            "Epoch: 3, Training Loss:  0.21595175564289093\n",
            "Epoch: 3, Training Loss:  0.10906244069337845\n",
            "Epoch: 3, Training Loss:  0.26248180866241455\n",
            "Epoch: 3, Training Loss:  0.07478942722082138\n",
            "Epoch: 3, Training Loss:  0.017428727820515633\n",
            "Epoch: 3, Training Loss:  0.1357956826686859\n",
            "Epoch: 3, Training Loss:  0.26193010807037354\n",
            "Epoch: 3, Training Loss:  0.10799798369407654\n",
            "Epoch: 3, Training Loss:  0.05526502802968025\n",
            "Epoch: 3, Training Loss:  0.18640348315238953\n",
            "Epoch: 3, Training Loss:  0.0740496814250946\n",
            "Epoch: 3, Training Loss:  0.10204055160284042\n",
            "Epoch: 3, Training Loss:  0.036228932440280914\n",
            "Epoch: 3, Training Loss:  0.07124336063861847\n",
            "Epoch: 3, Training Loss:  0.15723083913326263\n",
            "Epoch: 3, Training Loss:  0.08250129222869873\n",
            "Epoch: 3, Training Loss:  0.061914216727018356\n",
            "Epoch: 3, Training Loss:  0.14217586815357208\n",
            "Epoch: 3, Training Loss:  0.04014698788523674\n",
            "Epoch: 3, Training Loss:  0.1823595017194748\n",
            "Epoch: 3, Training Loss:  0.09435690194368362\n",
            "Epoch: 3, Training Loss:  0.028521783649921417\n",
            "Epoch: 3, Training Loss:  0.1773327887058258\n",
            "Epoch: 3, Training Loss:  0.10709509253501892\n",
            "Epoch: 3, Training Loss:  0.26581236720085144\n",
            "Epoch: 3, Training Loss:  0.023440496996045113\n",
            "Epoch: 3, Training Loss:  0.16365087032318115\n",
            "############# Epoch 3: Training End     #############\n",
            "############# Epoch 3: Validation Start   #############\n",
            "############# Epoch 3: Validation End     #############\n",
            "Epoch: 3 \tAvgerage Training Loss: 0.000041 \tAverage Validation Loss: 0.000099\n",
            "Validation loss decreased (0.000105 --> 0.000099).  Saving model ...\n",
            "############# Epoch 3  Done   #############\n",
            "\n",
            "############# Epoch 4: Training Start   #############\n",
            "Epoch: 4, Training Loss:  0.06015739589929581\n",
            "Epoch: 4, Training Loss:  0.03286776319146156\n",
            "Epoch: 4, Training Loss:  0.07774107903242111\n",
            "Epoch: 4, Training Loss:  0.1910988688468933\n",
            "Epoch: 4, Training Loss:  0.03637475520372391\n",
            "Epoch: 4, Training Loss:  0.06666248291730881\n",
            "Epoch: 4, Training Loss:  0.04044507443904877\n",
            "Epoch: 4, Training Loss:  0.1812291443347931\n",
            "Epoch: 4, Training Loss:  0.036316707730293274\n",
            "Epoch: 4, Training Loss:  0.08024290949106216\n",
            "Epoch: 4, Training Loss:  0.03220745921134949\n",
            "Epoch: 4, Training Loss:  0.06772249937057495\n",
            "Epoch: 4, Training Loss:  0.11180807650089264\n",
            "Epoch: 4, Training Loss:  0.032720889896154404\n",
            "Epoch: 4, Training Loss:  0.023773277178406715\n",
            "Epoch: 4, Training Loss:  0.15745648741722107\n",
            "Epoch: 4, Training Loss:  0.09915022552013397\n",
            "Epoch: 4, Training Loss:  0.22399453818798065\n",
            "Epoch: 4, Training Loss:  0.036859478801488876\n",
            "Epoch: 4, Training Loss:  0.06832941621541977\n",
            "Epoch: 4, Training Loss:  0.1449711173772812\n",
            "Epoch: 4, Training Loss:  0.05346386134624481\n",
            "Epoch: 4, Training Loss:  0.054433926939964294\n",
            "Epoch: 4, Training Loss:  0.09241869300603867\n",
            "Epoch: 4, Training Loss:  0.04365577921271324\n",
            "Epoch: 4, Training Loss:  0.050102148205041885\n",
            "Epoch: 4, Training Loss:  0.24806120991706848\n",
            "Epoch: 4, Training Loss:  0.143338143825531\n",
            "Epoch: 4, Training Loss:  0.053156301379203796\n",
            "Epoch: 4, Training Loss:  0.1445149928331375\n",
            "Epoch: 4, Training Loss:  0.14840726554393768\n",
            "Epoch: 4, Training Loss:  0.008631336502730846\n",
            "Epoch: 4, Training Loss:  0.1960839182138443\n",
            "Epoch: 4, Training Loss:  0.005345998331904411\n",
            "Epoch: 4, Training Loss:  0.030009564012289047\n",
            "Epoch: 4, Training Loss:  0.06423413753509521\n",
            "Epoch: 4, Training Loss:  0.026080911979079247\n",
            "Epoch: 4, Training Loss:  0.08291187137365341\n",
            "Epoch: 4, Training Loss:  0.05548651143908501\n",
            "Epoch: 4, Training Loss:  0.0188383050262928\n",
            "Epoch: 4, Training Loss:  0.024226238951086998\n",
            "Epoch: 4, Training Loss:  0.021052220836281776\n",
            "Epoch: 4, Training Loss:  0.0226499754935503\n",
            "Epoch: 4, Training Loss:  0.05920080468058586\n",
            "Epoch: 4, Training Loss:  0.09397264569997787\n",
            "Epoch: 4, Training Loss:  0.056428734213113785\n",
            "Epoch: 4, Training Loss:  0.01747530698776245\n",
            "Epoch: 4, Training Loss:  0.028135955333709717\n",
            "Epoch: 4, Training Loss:  0.21538883447647095\n",
            "Epoch: 4, Training Loss:  0.11735137552022934\n",
            "############# Epoch 4: Training End     #############\n",
            "############# Epoch 4: Validation Start   #############\n",
            "############# Epoch 4: Validation End     #############\n",
            "Epoch: 4 \tAvgerage Training Loss: 0.000034 \tAverage Validation Loss: 0.000099\n",
            "Validation loss decreased (0.000099 --> 0.000099).  Saving model ...\n",
            "############# Epoch 4  Done   #############\n",
            "\n"
          ]
        }
      ]
    },
    {
      "cell_type": "code",
      "source": [
        "def test():\n",
        "    model.eval()\n",
        "    fin_targets=[]\n",
        "    fin_outputs=[]\n",
        "    with torch.no_grad():\n",
        "        for _, data in enumerate(test_data_loader, 0):\n",
        "            ids = data['input_ids'].to(device, dtype = torch.long)\n",
        "            mask = data['attention_mask'].to(device, dtype = torch.long)\n",
        "            token_type_ids = data['token_type_ids'].to(device, dtype = torch.long)\n",
        "            targets = data['targets'].to(device, dtype = torch.float)\n",
        "            outputs = model(ids, mask, token_type_ids)\n",
        "            fin_targets.extend(targets.cpu().detach().numpy().tolist())\n",
        "            fin_outputs.extend(torch.sigmoid(outputs).cpu().detach().numpy().tolist())\n",
        "    return fin_outputs, fin_targets"
      ],
      "metadata": {
        "id": "dsXkdLgG3ryA"
      },
      "execution_count": 50,
      "outputs": []
    },
    {
      "cell_type": "code",
      "source": [
        "from sklearn import metrics"
      ],
      "metadata": {
        "id": "XENwJ8kjFOfS"
      },
      "execution_count": 51,
      "outputs": []
    },
    {
      "cell_type": "code",
      "source": [
        "outputs, targets = test()\n",
        "outputs = np.array(outputs) >= 0.5\n",
        "accuracy = metrics.accuracy_score(targets, outputs)\n",
        "f1_score_micro = metrics.f1_score(targets, outputs, average='micro')\n",
        "f1_score_macro = metrics.f1_score(targets, outputs, average='macro')\n",
        "print(f\"Accuracy Score = {accuracy}\")\n",
        "print(f\"F1 Score (Micro) = {f1_score_micro}\")\n",
        "print(f\"F1 Score (Macro) = {f1_score_macro}\")"
      ],
      "metadata": {
        "id": "0CLcu3nr36V9"
      },
      "execution_count": null,
      "outputs": []
    },
    {
      "cell_type": "code",
      "execution_count": 33,
      "metadata": {
        "id": "h_t6cPeRL-vL",
        "colab": {
          "base_uri": "https://localhost:8080/"
        },
        "outputId": "fb50b175-b7be-4ea8-84fe-ee22d28c7f0b"
      },
      "outputs": [
        {
          "output_type": "stream",
          "name": "stderr",
          "text": [
            "/usr/local/lib/python3.7/dist-packages/ipykernel_launcher.py:8: SettingWithCopyWarning: \n",
            "A value is trying to be set on a copy of a slice from a DataFrame\n",
            "\n",
            "See the caveats in the documentation: https://pandas.pydata.org/pandas-docs/stable/user_guide/indexing.html#returning-a-view-versus-a-copy\n",
            "  \n",
            "/usr/local/lib/python3.7/dist-packages/pandas/core/indexing.py:670: SettingWithCopyWarning: \n",
            "A value is trying to be set on a copy of a slice from a DataFrame\n",
            "\n",
            "See the caveats in the documentation: https://pandas.pydata.org/pandas-docs/stable/user_guide/indexing.html#returning-a-view-versus-a-copy\n",
            "  iloc._setitem_with_indexer(indexer, value)\n"
          ]
        }
      ],
      "source": [
        "import numpy as np\n",
        "#[6:Treatment, 4:Prevention, 3:Mechanism, 1:Diagnosis , 2:Epidemic Forecasting , 5:Transmission , 0:Case Report  ]\n",
        "predictions = pd.DataFrame(np.nan, index=[i for i in range(6232)],columns=[\"Case Report\",\"Diagnosis\",\"Epidemic Forecasting\",\"Mechanism\",\"Prevention\",\"Transmission\",\"Treatment\"])\n",
        "#predictions = predictions.append(pd.DataFrame(knnPredictions, columns=predictions.columns))\n",
        "columns=[\"Case Report\",\"Diagnosis\",\"Epidemic Forecasting\",\"Mechanism\",\"Prevention\",\"Transmission\",\"Treatment\"]\n",
        "for i in range(7):\n",
        "  for j in range(6232):\n",
        "    predictions[columns[i]][j] = outputs[j][i]\n"
      ]
    },
    {
      "cell_type": "code",
      "source": [
        "predictions.replace({False: 0, True: 1}, inplace=True)"
      ],
      "metadata": {
        "id": "wRWmyvb7H4re"
      },
      "execution_count": 34,
      "outputs": []
    },
    {
      "cell_type": "code",
      "execution_count": 35,
      "metadata": {
        "id": "W-Z6snHKOEWB"
      },
      "outputs": [],
      "source": [
        "predictions = predictions[[\"Treatment\",\"Diagnosis\", \"Prevention\", \"Mechanism\", \"Transmission\",\"Epidemic Forecasting\", \"Case Report\"]]"
      ]
    },
    {
      "cell_type": "code",
      "source": [
        "predictions.reset_index(drop=True, inplace=True)"
      ],
      "metadata": {
        "id": "thki_t7EIKG5"
      },
      "execution_count": 36,
      "outputs": []
    },
    {
      "cell_type": "code",
      "execution_count": 37,
      "metadata": {
        "id": "iBG2fHMaNevr"
      },
      "outputs": [],
      "source": [
        "predictions.to_csv(\"/content/predictions.csv\")"
      ]
    },
    {
      "cell_type": "code",
      "execution_count": 38,
      "metadata": {
        "id": "qKP8Nk2vNy3L"
      },
      "outputs": [],
      "source": [
        "testResults.to_csv(\"/content/testResults.csv\")"
      ]
    },
    {
      "cell_type": "code",
      "execution_count": 39,
      "metadata": {
        "colab": {
          "base_uri": "https://localhost:8080/"
        },
        "id": "6cT74ny7OS3f",
        "outputId": "2cda5bb5-60b4-4422-9781-34ecb4d12247"
      },
      "outputs": [
        {
          "output_type": "stream",
          "name": "stdout",
          "text": [
            "Cloning into 'biocreative_litcovid'...\n",
            "remote: Enumerating objects: 32, done.\u001b[K\n",
            "remote: Counting objects: 100% (32/32), done.\u001b[K\n",
            "remote: Compressing objects: 100% (28/28), done.\u001b[K\n",
            "remote: Total 32 (delta 15), reused 12 (delta 4), pack-reused 0\u001b[K\n",
            "Unpacking objects: 100% (32/32), done.\n"
          ]
        }
      ],
      "source": [
        "!git clone https://github.com/ncbi/biocreative_litcovid.git"
      ]
    },
    {
      "cell_type": "code",
      "execution_count": 41,
      "metadata": {
        "colab": {
          "base_uri": "https://localhost:8080/"
        },
        "id": "dq7TamV4Ok2n",
        "outputId": "675009e5-5702-4439-b66a-a01369199046"
      },
      "outputs": [
        {
          "output_type": "stream",
          "name": "stdout",
          "text": [
            "validation starts...\n",
            "validation passes...\n",
            "label-based measures...\n",
            "/usr/local/lib/python3.7/dist-packages/sklearn/metrics/_classification.py:1318: UndefinedMetricWarning: Precision and F-score are ill-defined and being set to 0.0 in samples with no predicted labels. Use `zero_division` parameter to control this behavior.\n",
            "  _warn_prf(average, modifier, msg_start, len(result))\n",
            "                      precision    recall  f1-score   support\n",
            "\n",
            "           Treatment     0.8294    0.7985    0.8137      2204\n",
            "           Diagnosis     0.8178    0.7178    0.7646      1545\n",
            "          Prevention     0.8873    0.8857    0.8865      2747\n",
            "           Mechanism     0.7961    0.7292    0.7612      1071\n",
            "        Transmission     0.7818    0.3373    0.4712       255\n",
            "Epidemic Forecasting     0.8389    0.6510    0.7331       192\n",
            "         Case Report     0.7663    0.6598    0.7090       482\n",
            "\n",
            "           micro avg     0.8396    0.7782    0.8078      8496\n",
            "           macro avg     0.8168    0.6828    0.7342      8496\n",
            "        weighted avg     0.8370    0.7782    0.8036      8496\n",
            "         samples avg     0.8329    0.8129    0.8075      8496\n",
            "\n",
            "instance-based measures\n",
            "mean precision 0.8329\n",
            "mean recall 0.8129\n",
            "f1 0.8228\n"
          ]
        }
      ],
      "source": [
        "!python /content/biocreative_litcovid/biocreative_litcovid_eval.py --gold /content/testResults.csv --pred /content/predictions.csv"
      ]
    },
    {
      "cell_type": "code",
      "source": [
        "torch.save(model.state_dict(), '/content/model2.pt')"
      ],
      "metadata": {
        "id": "L4jHbMtcMDQB"
      },
      "execution_count": 49,
      "outputs": []
    },
    {
      "cell_type": "code",
      "source": [
        "model = BERTClass()\n",
        "model.to(device)"
      ],
      "metadata": {
        "id": "Nvpcj6y0PMkt"
      },
      "execution_count": null,
      "outputs": []
    },
    {
      "cell_type": "code",
      "source": [
        "model.load_state_dict(torch.load(\"/content/model2.pt\"))\n",
        "model.eval()"
      ],
      "metadata": {
        "id": "zAOUCzD4Qhoz"
      },
      "execution_count": null,
      "outputs": []
    },
    {
      "cell_type": "code",
      "execution_count": null,
      "metadata": {
        "id": "62pADqAZSTPF"
      },
      "outputs": [],
      "source": [
        "from google.colab import files\n",
        "files.download('/content/predictions.csv') "
      ]
    }
  ],
  "metadata": {
    "accelerator": "GPU",
    "colab": {
      "collapsed_sections": [],
      "name": "Untitled6 (1).ipynb",
      "provenance": []
    },
    "kernelspec": {
      "display_name": "Python 3",
      "name": "python3"
    },
    "language_info": {
      "name": "python"
    }
  },
  "nbformat": 4,
  "nbformat_minor": 0
}